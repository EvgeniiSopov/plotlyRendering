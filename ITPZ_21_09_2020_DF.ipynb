{
  "nbformat": 4,
  "nbformat_minor": 0,
  "metadata": {
    "colab": {
      "name": "ITPZ_21_09_2020_DF.ipynb",
      "provenance": [],
      "collapsed_sections": [],
      "authorship_tag": "ABX9TyO4XW/p6hTxv9w7OqydBE6f",
      "include_colab_link": true
    },
    "kernelspec": {
      "name": "python3",
      "display_name": "Python 3"
    }
  },
  "cells": [
    {
      "cell_type": "markdown",
      "metadata": {
        "id": "view-in-github",
        "colab_type": "text"
      },
      "source": [
        "<a href=\"https://colab.research.google.com/github/EvgeniiSopov/plotlyRendering/blob/master/ITPZ_21_09_2020_DF.ipynb\" target=\"_parent\"><img src=\"https://colab.research.google.com/assets/colab-badge.svg\" alt=\"Open In Colab\"/></a>"
      ]
    },
    {
      "cell_type": "code",
      "metadata": {
        "id": "R72CCsM8Bnn5",
        "colab_type": "code",
        "colab": {}
      },
      "source": [
        "import numpy as np\n",
        "import pandas as pd\n",
        "import matplotlib.pyplot as plt"
      ],
      "execution_count": null,
      "outputs": []
    },
    {
      "cell_type": "markdown",
      "metadata": {
        "id": "Vmp3K0yuJt4Y",
        "colab_type": "text"
      },
      "source": [
        "Создадим dataframe для примера. Стандартный способ создания - использовать объект словарь (dictionary)."
      ]
    },
    {
      "cell_type": "code",
      "metadata": {
        "id": "_KMuaSGlBuIg",
        "colab_type": "code",
        "colab": {}
      },
      "source": [
        "data = {\n",
        "    'name' : ['Xavier', 'Ann', 'Jana', 'Yi', 'Robin', 'Amai', 'Nori'],\n",
        "    'city' : ['Mexico City', 'Toronto', 'Prague', 'Shanghai', 'Manchester', 'Cairo', 'Osaka'],\n",
        "    'age' : [41, 28, 33, 34, 38, 31, 37],\n",
        "    'py-score' : [88.0, 79.0, 81.0, 80.0, 68.0, 61.0, 84.0]\n",
        "}\n",
        "row_labels= [101, 102, 103, 104, 105, 106, 107]"
      ],
      "execution_count": null,
      "outputs": []
    },
    {
      "cell_type": "code",
      "metadata": {
        "id": "ixZnLwtxCyH3",
        "colab_type": "code",
        "colab": {
          "base_uri": "https://localhost:8080/",
          "height": 269
        },
        "outputId": "d1dff494-bddd-4e3d-e4a5-23739e0244c2"
      },
      "source": [
        "df1 = pd.DataFrame(data=data, index=row_labels)\n",
        "df1"
      ],
      "execution_count": null,
      "outputs": [
        {
          "output_type": "execute_result",
          "data": {
            "text/html": [
              "<div>\n",
              "<style scoped>\n",
              "    .dataframe tbody tr th:only-of-type {\n",
              "        vertical-align: middle;\n",
              "    }\n",
              "\n",
              "    .dataframe tbody tr th {\n",
              "        vertical-align: top;\n",
              "    }\n",
              "\n",
              "    .dataframe thead th {\n",
              "        text-align: right;\n",
              "    }\n",
              "</style>\n",
              "<table border=\"1\" class=\"dataframe\">\n",
              "  <thead>\n",
              "    <tr style=\"text-align: right;\">\n",
              "      <th></th>\n",
              "      <th>name</th>\n",
              "      <th>city</th>\n",
              "      <th>age</th>\n",
              "      <th>py-score</th>\n",
              "    </tr>\n",
              "  </thead>\n",
              "  <tbody>\n",
              "    <tr>\n",
              "      <th>101</th>\n",
              "      <td>Xavier</td>\n",
              "      <td>Mexico City</td>\n",
              "      <td>41</td>\n",
              "      <td>88.0</td>\n",
              "    </tr>\n",
              "    <tr>\n",
              "      <th>102</th>\n",
              "      <td>Ann</td>\n",
              "      <td>Toronto</td>\n",
              "      <td>28</td>\n",
              "      <td>79.0</td>\n",
              "    </tr>\n",
              "    <tr>\n",
              "      <th>103</th>\n",
              "      <td>Jana</td>\n",
              "      <td>Prague</td>\n",
              "      <td>33</td>\n",
              "      <td>81.0</td>\n",
              "    </tr>\n",
              "    <tr>\n",
              "      <th>104</th>\n",
              "      <td>Yi</td>\n",
              "      <td>Shanghai</td>\n",
              "      <td>34</td>\n",
              "      <td>80.0</td>\n",
              "    </tr>\n",
              "    <tr>\n",
              "      <th>105</th>\n",
              "      <td>Robin</td>\n",
              "      <td>Manchester</td>\n",
              "      <td>38</td>\n",
              "      <td>68.0</td>\n",
              "    </tr>\n",
              "    <tr>\n",
              "      <th>106</th>\n",
              "      <td>Amai</td>\n",
              "      <td>Cairo</td>\n",
              "      <td>31</td>\n",
              "      <td>61.0</td>\n",
              "    </tr>\n",
              "    <tr>\n",
              "      <th>107</th>\n",
              "      <td>Nori</td>\n",
              "      <td>Osaka</td>\n",
              "      <td>37</td>\n",
              "      <td>84.0</td>\n",
              "    </tr>\n",
              "  </tbody>\n",
              "</table>\n",
              "</div>"
            ],
            "text/plain": [
              "       name         city  age  py-score\n",
              "101  Xavier  Mexico City   41      88.0\n",
              "102     Ann      Toronto   28      79.0\n",
              "103    Jana       Prague   33      81.0\n",
              "104      Yi     Shanghai   34      80.0\n",
              "105   Robin   Manchester   38      68.0\n",
              "106    Amai        Cairo   31      61.0\n",
              "107    Nori        Osaka   37      84.0"
            ]
          },
          "metadata": {
            "tags": []
          },
          "execution_count": 4
        }
      ]
    },
    {
      "cell_type": "code",
      "metadata": {
        "id": "UA--L2ZUL2g9",
        "colab_type": "code",
        "colab": {
          "base_uri": "https://localhost:8080/",
          "height": 300
        },
        "outputId": "71bc7955-0a84-4c2c-edbf-c85151841482"
      },
      "source": [
        "df2=df1[['city', 'age', 'py-score']].copy()\n",
        "df2.index=df1.name\n",
        "df2"
      ],
      "execution_count": null,
      "outputs": [
        {
          "output_type": "execute_result",
          "data": {
            "text/html": [
              "<div>\n",
              "<style scoped>\n",
              "    .dataframe tbody tr th:only-of-type {\n",
              "        vertical-align: middle;\n",
              "    }\n",
              "\n",
              "    .dataframe tbody tr th {\n",
              "        vertical-align: top;\n",
              "    }\n",
              "\n",
              "    .dataframe thead th {\n",
              "        text-align: right;\n",
              "    }\n",
              "</style>\n",
              "<table border=\"1\" class=\"dataframe\">\n",
              "  <thead>\n",
              "    <tr style=\"text-align: right;\">\n",
              "      <th></th>\n",
              "      <th>city</th>\n",
              "      <th>age</th>\n",
              "      <th>py-score</th>\n",
              "    </tr>\n",
              "    <tr>\n",
              "      <th>name</th>\n",
              "      <th></th>\n",
              "      <th></th>\n",
              "      <th></th>\n",
              "    </tr>\n",
              "  </thead>\n",
              "  <tbody>\n",
              "    <tr>\n",
              "      <th>Xavier</th>\n",
              "      <td>Mexico City</td>\n",
              "      <td>41</td>\n",
              "      <td>88.0</td>\n",
              "    </tr>\n",
              "    <tr>\n",
              "      <th>Ann</th>\n",
              "      <td>Toronto</td>\n",
              "      <td>28</td>\n",
              "      <td>79.0</td>\n",
              "    </tr>\n",
              "    <tr>\n",
              "      <th>Jana</th>\n",
              "      <td>Prague</td>\n",
              "      <td>33</td>\n",
              "      <td>81.0</td>\n",
              "    </tr>\n",
              "    <tr>\n",
              "      <th>Yi</th>\n",
              "      <td>Shanghai</td>\n",
              "      <td>34</td>\n",
              "      <td>80.0</td>\n",
              "    </tr>\n",
              "    <tr>\n",
              "      <th>Robin</th>\n",
              "      <td>Manchester</td>\n",
              "      <td>38</td>\n",
              "      <td>68.0</td>\n",
              "    </tr>\n",
              "    <tr>\n",
              "      <th>Amai</th>\n",
              "      <td>Cairo</td>\n",
              "      <td>31</td>\n",
              "      <td>61.0</td>\n",
              "    </tr>\n",
              "    <tr>\n",
              "      <th>Nori</th>\n",
              "      <td>Osaka</td>\n",
              "      <td>37</td>\n",
              "      <td>84.0</td>\n",
              "    </tr>\n",
              "  </tbody>\n",
              "</table>\n",
              "</div>"
            ],
            "text/plain": [
              "               city  age  py-score\n",
              "name                              \n",
              "Xavier  Mexico City   41      88.0\n",
              "Ann         Toronto   28      79.0\n",
              "Jana         Prague   33      81.0\n",
              "Yi         Shanghai   34      80.0\n",
              "Robin    Manchester   38      68.0\n",
              "Amai          Cairo   31      61.0\n",
              "Nori          Osaka   37      84.0"
            ]
          },
          "metadata": {
            "tags": []
          },
          "execution_count": 8
        }
      ]
    },
    {
      "cell_type": "markdown",
      "metadata": {
        "id": "pfQh0lA1J7D4",
        "colab_type": "text"
      },
      "source": [
        "Доступ к элементам dataframe"
      ]
    },
    {
      "cell_type": "code",
      "metadata": {
        "id": "-YkGGDngD17u",
        "colab_type": "code",
        "colab": {
          "base_uri": "https://localhost:8080/",
          "height": 153
        },
        "outputId": "2b9db8e5-bfdd-4152-ff9f-634df7f02984"
      },
      "source": [
        "df1['city']"
      ],
      "execution_count": null,
      "outputs": [
        {
          "output_type": "execute_result",
          "data": {
            "text/plain": [
              "101    Mexico City\n",
              "102        Toronto\n",
              "103         Prague\n",
              "104       Shanghai\n",
              "105     Manchester\n",
              "106          Cairo\n",
              "107          Osaka\n",
              "Name: city, dtype: object"
            ]
          },
          "metadata": {
            "tags": []
          },
          "execution_count": 4
        }
      ]
    },
    {
      "cell_type": "code",
      "metadata": {
        "id": "iT39uAT0D8AI",
        "colab_type": "code",
        "colab": {
          "base_uri": "https://localhost:8080/",
          "height": 153
        },
        "outputId": "c2ff6115-d4ac-4a9f-9a7f-242ff16ca743"
      },
      "source": [
        "df1.city"
      ],
      "execution_count": null,
      "outputs": [
        {
          "output_type": "execute_result",
          "data": {
            "text/plain": [
              "101    Mexico City\n",
              "102        Toronto\n",
              "103         Prague\n",
              "104       Shanghai\n",
              "105     Manchester\n",
              "106          Cairo\n",
              "107          Osaka\n",
              "Name: city, dtype: object"
            ]
          },
          "metadata": {
            "tags": []
          },
          "execution_count": 5
        }
      ]
    },
    {
      "cell_type": "code",
      "metadata": {
        "id": "EWoyLP6dENpF",
        "colab_type": "code",
        "colab": {
          "base_uri": "https://localhost:8080/",
          "height": 35
        },
        "outputId": "94aa1149-a738-4e6b-9a42-ec731cece132"
      },
      "source": [
        "df1['city'][102]"
      ],
      "execution_count": null,
      "outputs": [
        {
          "output_type": "execute_result",
          "data": {
            "application/vnd.google.colaboratory.intrinsic+json": {
              "type": "string"
            },
            "text/plain": [
              "'Toronto'"
            ]
          },
          "metadata": {
            "tags": []
          },
          "execution_count": 6
        }
      ]
    },
    {
      "cell_type": "markdown",
      "metadata": {
        "id": "CwbkP5sdEdQ2",
        "colab_type": "text"
      },
      "source": [
        "Функции .loc .iloc к любым элементам dataframe. Буква i говорит о том, что указывается индек (целое число), означающий позицию в dataframe.\n",
        "\n",
        "Функции .at .iat для доступа к конкретному значению."
      ]
    },
    {
      "cell_type": "code",
      "metadata": {
        "id": "X2PbMBN_EbRG",
        "colab_type": "code",
        "colab": {
          "base_uri": "https://localhost:8080/",
          "height": 102
        },
        "outputId": "e36de51f-44c9-4373-e27d-e57e7811f82c"
      },
      "source": [
        "df1.loc[103]"
      ],
      "execution_count": null,
      "outputs": [
        {
          "output_type": "execute_result",
          "data": {
            "text/plain": [
              "name          Jana\n",
              "city        Prague\n",
              "age             33\n",
              "py-score        81\n",
              "Name: 103, dtype: object"
            ]
          },
          "metadata": {
            "tags": []
          },
          "execution_count": 7
        }
      ]
    },
    {
      "cell_type": "code",
      "metadata": {
        "id": "vbgs3EswE2vO",
        "colab_type": "code",
        "colab": {
          "base_uri": "https://localhost:8080/",
          "height": 102
        },
        "outputId": "c1b6112d-a4a6-4a6a-9c77-eb7f9e8c742a"
      },
      "source": [
        "df1.iloc[0]"
      ],
      "execution_count": null,
      "outputs": [
        {
          "output_type": "execute_result",
          "data": {
            "text/plain": [
              "name             Xavier\n",
              "city        Mexico City\n",
              "age                  41\n",
              "py-score             88\n",
              "Name: 101, dtype: object"
            ]
          },
          "metadata": {
            "tags": []
          },
          "execution_count": 8
        }
      ]
    },
    {
      "cell_type": "code",
      "metadata": {
        "id": "RgBe8a-fFG09",
        "colab_type": "code",
        "colab": {
          "base_uri": "https://localhost:8080/",
          "height": 153
        },
        "outputId": "af83ca99-4d43-4078-a35e-cdbd3fe1ab33"
      },
      "source": [
        "df1.loc[:, 'city']"
      ],
      "execution_count": null,
      "outputs": [
        {
          "output_type": "execute_result",
          "data": {
            "text/plain": [
              "101    Mexico City\n",
              "102        Toronto\n",
              "103         Prague\n",
              "104       Shanghai\n",
              "105     Manchester\n",
              "106          Cairo\n",
              "107          Osaka\n",
              "Name: city, dtype: object"
            ]
          },
          "metadata": {
            "tags": []
          },
          "execution_count": 9
        }
      ]
    },
    {
      "cell_type": "code",
      "metadata": {
        "id": "FEaf2hwMFT11",
        "colab_type": "code",
        "colab": {
          "base_uri": "https://localhost:8080/",
          "height": 153
        },
        "outputId": "a96b6644-db8e-467b-feba-6e81a8fa1a73"
      },
      "source": [
        "df1.iloc[:, 1]"
      ],
      "execution_count": null,
      "outputs": [
        {
          "output_type": "execute_result",
          "data": {
            "text/plain": [
              "101    Mexico City\n",
              "102        Toronto\n",
              "103         Prague\n",
              "104       Shanghai\n",
              "105     Manchester\n",
              "106          Cairo\n",
              "107          Osaka\n",
              "Name: city, dtype: object"
            ]
          },
          "metadata": {
            "tags": []
          },
          "execution_count": 11
        }
      ]
    },
    {
      "cell_type": "code",
      "metadata": {
        "id": "HFZ6O7ztFgPs",
        "colab_type": "code",
        "colab": {
          "base_uri": "https://localhost:8080/",
          "height": 142
        },
        "outputId": "f01dd94d-af52-4f3f-d56b-d0239b2dbe9b"
      },
      "source": [
        "df1.iloc[3:6, [0,1,3]]"
      ],
      "execution_count": null,
      "outputs": [
        {
          "output_type": "execute_result",
          "data": {
            "text/html": [
              "<div>\n",
              "<style scoped>\n",
              "    .dataframe tbody tr th:only-of-type {\n",
              "        vertical-align: middle;\n",
              "    }\n",
              "\n",
              "    .dataframe tbody tr th {\n",
              "        vertical-align: top;\n",
              "    }\n",
              "\n",
              "    .dataframe thead th {\n",
              "        text-align: right;\n",
              "    }\n",
              "</style>\n",
              "<table border=\"1\" class=\"dataframe\">\n",
              "  <thead>\n",
              "    <tr style=\"text-align: right;\">\n",
              "      <th></th>\n",
              "      <th>name</th>\n",
              "      <th>city</th>\n",
              "      <th>py-score</th>\n",
              "    </tr>\n",
              "  </thead>\n",
              "  <tbody>\n",
              "    <tr>\n",
              "      <th>104</th>\n",
              "      <td>Yi</td>\n",
              "      <td>Shanghai</td>\n",
              "      <td>80.0</td>\n",
              "    </tr>\n",
              "    <tr>\n",
              "      <th>105</th>\n",
              "      <td>Robin</td>\n",
              "      <td>Manchester</td>\n",
              "      <td>68.0</td>\n",
              "    </tr>\n",
              "    <tr>\n",
              "      <th>106</th>\n",
              "      <td>Amai</td>\n",
              "      <td>Cairo</td>\n",
              "      <td>61.0</td>\n",
              "    </tr>\n",
              "  </tbody>\n",
              "</table>\n",
              "</div>"
            ],
            "text/plain": [
              "      name        city  py-score\n",
              "104     Yi    Shanghai      80.0\n",
              "105  Robin  Manchester      68.0\n",
              "106   Amai       Cairo      61.0"
            ]
          },
          "metadata": {
            "tags": []
          },
          "execution_count": 13
        }
      ]
    },
    {
      "cell_type": "code",
      "metadata": {
        "id": "GzMqiSb3GE_8",
        "colab_type": "code",
        "colab": {
          "base_uri": "https://localhost:8080/",
          "height": 35
        },
        "outputId": "843fd3d5-7bf1-4fc2-db90-c4d1fe4c8a9b"
      },
      "source": [
        "df1.at[103,'name']"
      ],
      "execution_count": null,
      "outputs": [
        {
          "output_type": "execute_result",
          "data": {
            "application/vnd.google.colaboratory.intrinsic+json": {
              "type": "string"
            },
            "text/plain": [
              "'Jana'"
            ]
          },
          "metadata": {
            "tags": []
          },
          "execution_count": 15
        }
      ]
    },
    {
      "cell_type": "code",
      "metadata": {
        "id": "1iSXTWqmMThH",
        "colab_type": "code",
        "colab": {
          "base_uri": "https://localhost:8080/",
          "height": 178
        },
        "outputId": "71f8c7f3-f70b-4d45-e118-8abde65b38ce"
      },
      "source": [
        "df2['city']"
      ],
      "execution_count": null,
      "outputs": [
        {
          "output_type": "execute_result",
          "data": {
            "text/plain": [
              "name\n",
              "Xavier    Mexico City\n",
              "Ann           Toronto\n",
              "Jana           Prague\n",
              "Yi           Shanghai\n",
              "Robin      Manchester\n",
              "Amai            Cairo\n",
              "Nori            Osaka\n",
              "Name: city, dtype: object"
            ]
          },
          "metadata": {
            "tags": []
          },
          "execution_count": 9
        }
      ]
    },
    {
      "cell_type": "code",
      "metadata": {
        "id": "ynI3q2n6MWMy",
        "colab_type": "code",
        "colab": {
          "base_uri": "https://localhost:8080/",
          "height": 88
        },
        "outputId": "878e0041-ec3f-468b-eaeb-c33817601cd4"
      },
      "source": [
        "df2.loc['Jana']"
      ],
      "execution_count": null,
      "outputs": [
        {
          "output_type": "execute_result",
          "data": {
            "text/plain": [
              "city        Prague\n",
              "age             33\n",
              "py-score        81\n",
              "Name: Jana, dtype: object"
            ]
          },
          "metadata": {
            "tags": []
          },
          "execution_count": 10
        }
      ]
    },
    {
      "cell_type": "markdown",
      "metadata": {
        "id": "rNl2QcHLLO7B",
        "colab_type": "text"
      },
      "source": [
        "Операция транспонирования. Аналог разворота осей в ХД."
      ]
    },
    {
      "cell_type": "code",
      "metadata": {
        "id": "irkHfqyEGdNN",
        "colab_type": "code",
        "colab": {
          "base_uri": "https://localhost:8080/",
          "height": 173
        },
        "outputId": "0e27022e-a3cc-4148-fd10-eddc3ee24177"
      },
      "source": [
        "df1.T"
      ],
      "execution_count": null,
      "outputs": [
        {
          "output_type": "execute_result",
          "data": {
            "text/html": [
              "<div>\n",
              "<style scoped>\n",
              "    .dataframe tbody tr th:only-of-type {\n",
              "        vertical-align: middle;\n",
              "    }\n",
              "\n",
              "    .dataframe tbody tr th {\n",
              "        vertical-align: top;\n",
              "    }\n",
              "\n",
              "    .dataframe thead th {\n",
              "        text-align: right;\n",
              "    }\n",
              "</style>\n",
              "<table border=\"1\" class=\"dataframe\">\n",
              "  <thead>\n",
              "    <tr style=\"text-align: right;\">\n",
              "      <th></th>\n",
              "      <th>101</th>\n",
              "      <th>102</th>\n",
              "      <th>103</th>\n",
              "      <th>104</th>\n",
              "      <th>105</th>\n",
              "      <th>106</th>\n",
              "      <th>107</th>\n",
              "    </tr>\n",
              "  </thead>\n",
              "  <tbody>\n",
              "    <tr>\n",
              "      <th>name</th>\n",
              "      <td>Xavier</td>\n",
              "      <td>Ann</td>\n",
              "      <td>Jana</td>\n",
              "      <td>Yi</td>\n",
              "      <td>Robin</td>\n",
              "      <td>Amai</td>\n",
              "      <td>Nori</td>\n",
              "    </tr>\n",
              "    <tr>\n",
              "      <th>city</th>\n",
              "      <td>Mexico City</td>\n",
              "      <td>Toronto</td>\n",
              "      <td>Prague</td>\n",
              "      <td>Shanghai</td>\n",
              "      <td>Manchester</td>\n",
              "      <td>Cairo</td>\n",
              "      <td>Osaka</td>\n",
              "    </tr>\n",
              "    <tr>\n",
              "      <th>age</th>\n",
              "      <td>41</td>\n",
              "      <td>28</td>\n",
              "      <td>33</td>\n",
              "      <td>34</td>\n",
              "      <td>38</td>\n",
              "      <td>31</td>\n",
              "      <td>37</td>\n",
              "    </tr>\n",
              "    <tr>\n",
              "      <th>py-score</th>\n",
              "      <td>88</td>\n",
              "      <td>79</td>\n",
              "      <td>81</td>\n",
              "      <td>80</td>\n",
              "      <td>68</td>\n",
              "      <td>61</td>\n",
              "      <td>84</td>\n",
              "    </tr>\n",
              "  </tbody>\n",
              "</table>\n",
              "</div>"
            ],
            "text/plain": [
              "                  101      102     103       104         105    106    107\n",
              "name           Xavier      Ann    Jana        Yi       Robin   Amai   Nori\n",
              "city      Mexico City  Toronto  Prague  Shanghai  Manchester  Cairo  Osaka\n",
              "age                41       28      33        34          38     31     37\n",
              "py-score           88       79      81        80          68     61     84"
            ]
          },
          "metadata": {
            "tags": []
          },
          "execution_count": 18
        }
      ]
    },
    {
      "cell_type": "code",
      "metadata": {
        "id": "BK9pP2NSMdEl",
        "colab_type": "code",
        "colab": {
          "base_uri": "https://localhost:8080/",
          "height": 143
        },
        "outputId": "568be520-8fcc-4c3f-d1b4-7d541b90ea66"
      },
      "source": [
        "df2.T"
      ],
      "execution_count": null,
      "outputs": [
        {
          "output_type": "execute_result",
          "data": {
            "text/html": [
              "<div>\n",
              "<style scoped>\n",
              "    .dataframe tbody tr th:only-of-type {\n",
              "        vertical-align: middle;\n",
              "    }\n",
              "\n",
              "    .dataframe tbody tr th {\n",
              "        vertical-align: top;\n",
              "    }\n",
              "\n",
              "    .dataframe thead th {\n",
              "        text-align: right;\n",
              "    }\n",
              "</style>\n",
              "<table border=\"1\" class=\"dataframe\">\n",
              "  <thead>\n",
              "    <tr style=\"text-align: right;\">\n",
              "      <th>name</th>\n",
              "      <th>Xavier</th>\n",
              "      <th>Ann</th>\n",
              "      <th>Jana</th>\n",
              "      <th>Yi</th>\n",
              "      <th>Robin</th>\n",
              "      <th>Amai</th>\n",
              "      <th>Nori</th>\n",
              "    </tr>\n",
              "  </thead>\n",
              "  <tbody>\n",
              "    <tr>\n",
              "      <th>city</th>\n",
              "      <td>Mexico City</td>\n",
              "      <td>Toronto</td>\n",
              "      <td>Prague</td>\n",
              "      <td>Shanghai</td>\n",
              "      <td>Manchester</td>\n",
              "      <td>Cairo</td>\n",
              "      <td>Osaka</td>\n",
              "    </tr>\n",
              "    <tr>\n",
              "      <th>age</th>\n",
              "      <td>41</td>\n",
              "      <td>28</td>\n",
              "      <td>33</td>\n",
              "      <td>34</td>\n",
              "      <td>38</td>\n",
              "      <td>31</td>\n",
              "      <td>37</td>\n",
              "    </tr>\n",
              "    <tr>\n",
              "      <th>py-score</th>\n",
              "      <td>88</td>\n",
              "      <td>79</td>\n",
              "      <td>81</td>\n",
              "      <td>80</td>\n",
              "      <td>68</td>\n",
              "      <td>61</td>\n",
              "      <td>84</td>\n",
              "    </tr>\n",
              "  </tbody>\n",
              "</table>\n",
              "</div>"
            ],
            "text/plain": [
              "name           Xavier      Ann    Jana        Yi       Robin   Amai   Nori\n",
              "city      Mexico City  Toronto  Prague  Shanghai  Manchester  Cairo  Osaka\n",
              "age                41       28      33        34          38     31     37\n",
              "py-score           88       79      81        80          68     61     84"
            ]
          },
          "metadata": {
            "tags": []
          },
          "execution_count": 11
        }
      ]
    },
    {
      "cell_type": "markdown",
      "metadata": {
        "id": "9XN4pdQ9LJh5",
        "colab_type": "text"
      },
      "source": [
        "Доступ к полям и свойствам."
      ]
    },
    {
      "cell_type": "code",
      "metadata": {
        "id": "WRf0YRVBGNQF",
        "colab_type": "code",
        "colab": {
          "base_uri": "https://localhost:8080/",
          "height": 34
        },
        "outputId": "74448be9-cf8a-4c0f-d64b-3864b88336e0"
      },
      "source": [
        "df1.index"
      ],
      "execution_count": null,
      "outputs": [
        {
          "output_type": "execute_result",
          "data": {
            "text/plain": [
              "Int64Index([101, 102, 103, 104, 105, 106, 107], dtype='int64')"
            ]
          },
          "metadata": {
            "tags": []
          },
          "execution_count": 16
        }
      ]
    },
    {
      "cell_type": "code",
      "metadata": {
        "id": "5XUHAnq6GWgF",
        "colab_type": "code",
        "colab": {
          "base_uri": "https://localhost:8080/",
          "height": 34
        },
        "outputId": "9dd7f337-893e-4a76-85e3-1525e6fc1e7d"
      },
      "source": [
        "df1.columns"
      ],
      "execution_count": null,
      "outputs": [
        {
          "output_type": "execute_result",
          "data": {
            "text/plain": [
              "Index(['name', 'city', 'age', 'py-score'], dtype='object')"
            ]
          },
          "metadata": {
            "tags": []
          },
          "execution_count": 17
        }
      ]
    },
    {
      "cell_type": "code",
      "metadata": {
        "id": "PPxEg26VGxac",
        "colab_type": "code",
        "colab": {
          "base_uri": "https://localhost:8080/",
          "height": 34
        },
        "outputId": "b6f2b2a5-faa7-4b27-8c05-e7a0343b86d0"
      },
      "source": [
        "df1.ndim"
      ],
      "execution_count": null,
      "outputs": [
        {
          "output_type": "execute_result",
          "data": {
            "text/plain": [
              "2"
            ]
          },
          "metadata": {
            "tags": []
          },
          "execution_count": 19
        }
      ]
    },
    {
      "cell_type": "code",
      "metadata": {
        "id": "Y8MB7rFQG2bj",
        "colab_type": "code",
        "colab": {
          "base_uri": "https://localhost:8080/",
          "height": 34
        },
        "outputId": "8f61ba2b-e417-41ad-86dd-a0a9ec028a74"
      },
      "source": [
        "df1.shape"
      ],
      "execution_count": null,
      "outputs": [
        {
          "output_type": "execute_result",
          "data": {
            "text/plain": [
              "(7, 4)"
            ]
          },
          "metadata": {
            "tags": []
          },
          "execution_count": 20
        }
      ]
    },
    {
      "cell_type": "code",
      "metadata": {
        "id": "Rm7HZuVTG9V7",
        "colab_type": "code",
        "colab": {
          "base_uri": "https://localhost:8080/",
          "height": 34
        },
        "outputId": "971c8eaa-4e08-4e75-a202-df3d409ce354"
      },
      "source": [
        "df1.size"
      ],
      "execution_count": null,
      "outputs": [
        {
          "output_type": "execute_result",
          "data": {
            "text/plain": [
              "28"
            ]
          },
          "metadata": {
            "tags": []
          },
          "execution_count": 21
        }
      ]
    },
    {
      "cell_type": "code",
      "metadata": {
        "id": "_PPN2E0hHCKz",
        "colab_type": "code",
        "colab": {
          "base_uri": "https://localhost:8080/",
          "height": 119
        },
        "outputId": "8a99f57a-c9d9-4447-fe65-909436f2e9d2"
      },
      "source": [
        "df1.memory_usage()"
      ],
      "execution_count": null,
      "outputs": [
        {
          "output_type": "execute_result",
          "data": {
            "text/plain": [
              "Index       376\n",
              "name         56\n",
              "city         56\n",
              "age          56\n",
              "py-score     56\n",
              "dtype: int64"
            ]
          },
          "metadata": {
            "tags": []
          },
          "execution_count": 22
        }
      ]
    },
    {
      "cell_type": "code",
      "metadata": {
        "id": "o6AoZX7bHNsu",
        "colab_type": "code",
        "colab": {
          "base_uri": "https://localhost:8080/",
          "height": 204
        },
        "outputId": "86ab1866-46b6-41ab-b5d0-0f9c18fa0304"
      },
      "source": [
        "df1.info()"
      ],
      "execution_count": null,
      "outputs": [
        {
          "output_type": "stream",
          "text": [
            "<class 'pandas.core.frame.DataFrame'>\n",
            "Int64Index: 7 entries, 101 to 107\n",
            "Data columns (total 4 columns):\n",
            " #   Column    Non-Null Count  Dtype  \n",
            "---  ------    --------------  -----  \n",
            " 0   name      7 non-null      object \n",
            " 1   city      7 non-null      object \n",
            " 2   age       7 non-null      int64  \n",
            " 3   py-score  7 non-null      float64\n",
            "dtypes: float64(1), int64(1), object(2)\n",
            "memory usage: 600.0+ bytes\n"
          ],
          "name": "stdout"
        }
      ]
    },
    {
      "cell_type": "markdown",
      "metadata": {
        "id": "MS-ptZ25LcTR",
        "colab_type": "text"
      },
      "source": [
        "Добавление и удаление элементов."
      ]
    },
    {
      "cell_type": "code",
      "metadata": {
        "id": "tiVZksxcHhV9",
        "colab_type": "code",
        "colab": {
          "base_uri": "https://localhost:8080/",
          "height": 266
        },
        "outputId": "748f8c50-d3f6-42f6-ba41-eb5520d9dfd7"
      },
      "source": [
        "df1['c++ score']=[71.0, 15.0, 88.0, 56.0, np.nan, np.nan, np.nan]\n",
        "df1"
      ],
      "execution_count": null,
      "outputs": [
        {
          "output_type": "execute_result",
          "data": {
            "text/html": [
              "<div>\n",
              "<style scoped>\n",
              "    .dataframe tbody tr th:only-of-type {\n",
              "        vertical-align: middle;\n",
              "    }\n",
              "\n",
              "    .dataframe tbody tr th {\n",
              "        vertical-align: top;\n",
              "    }\n",
              "\n",
              "    .dataframe thead th {\n",
              "        text-align: right;\n",
              "    }\n",
              "</style>\n",
              "<table border=\"1\" class=\"dataframe\">\n",
              "  <thead>\n",
              "    <tr style=\"text-align: right;\">\n",
              "      <th></th>\n",
              "      <th>name</th>\n",
              "      <th>city</th>\n",
              "      <th>age</th>\n",
              "      <th>py-score</th>\n",
              "      <th>c++ score</th>\n",
              "    </tr>\n",
              "  </thead>\n",
              "  <tbody>\n",
              "    <tr>\n",
              "      <th>101</th>\n",
              "      <td>Xavier</td>\n",
              "      <td>Mexico City</td>\n",
              "      <td>41</td>\n",
              "      <td>88.0</td>\n",
              "      <td>71.0</td>\n",
              "    </tr>\n",
              "    <tr>\n",
              "      <th>102</th>\n",
              "      <td>Ann</td>\n",
              "      <td>Toronto</td>\n",
              "      <td>28</td>\n",
              "      <td>79.0</td>\n",
              "      <td>15.0</td>\n",
              "    </tr>\n",
              "    <tr>\n",
              "      <th>103</th>\n",
              "      <td>Jana</td>\n",
              "      <td>Prague</td>\n",
              "      <td>33</td>\n",
              "      <td>81.0</td>\n",
              "      <td>88.0</td>\n",
              "    </tr>\n",
              "    <tr>\n",
              "      <th>104</th>\n",
              "      <td>Yi</td>\n",
              "      <td>Shanghai</td>\n",
              "      <td>34</td>\n",
              "      <td>80.0</td>\n",
              "      <td>56.0</td>\n",
              "    </tr>\n",
              "    <tr>\n",
              "      <th>105</th>\n",
              "      <td>Robin</td>\n",
              "      <td>Manchester</td>\n",
              "      <td>38</td>\n",
              "      <td>68.0</td>\n",
              "      <td>NaN</td>\n",
              "    </tr>\n",
              "    <tr>\n",
              "      <th>106</th>\n",
              "      <td>Amai</td>\n",
              "      <td>Cairo</td>\n",
              "      <td>31</td>\n",
              "      <td>61.0</td>\n",
              "      <td>NaN</td>\n",
              "    </tr>\n",
              "    <tr>\n",
              "      <th>107</th>\n",
              "      <td>Nori</td>\n",
              "      <td>Osaka</td>\n",
              "      <td>37</td>\n",
              "      <td>84.0</td>\n",
              "      <td>NaN</td>\n",
              "    </tr>\n",
              "  </tbody>\n",
              "</table>\n",
              "</div>"
            ],
            "text/plain": [
              "       name         city  age  py-score  c++ score\n",
              "101  Xavier  Mexico City   41      88.0       71.0\n",
              "102     Ann      Toronto   28      79.0       15.0\n",
              "103    Jana       Prague   33      81.0       88.0\n",
              "104      Yi     Shanghai   34      80.0       56.0\n",
              "105   Robin   Manchester   38      68.0        NaN\n",
              "106    Amai        Cairo   31      61.0        NaN\n",
              "107    Nori        Osaka   37      84.0        NaN"
            ]
          },
          "metadata": {
            "tags": []
          },
          "execution_count": 25
        }
      ]
    },
    {
      "cell_type": "code",
      "metadata": {
        "id": "2GwXCk6nIYIU",
        "colab_type": "code",
        "colab": {
          "base_uri": "https://localhost:8080/",
          "height": 266
        },
        "outputId": "caf72215-2264-4359-d8b6-1c51ecf38900"
      },
      "source": [
        "df1=df1.drop(columns=['c++ score'])\n",
        "df1"
      ],
      "execution_count": null,
      "outputs": [
        {
          "output_type": "execute_result",
          "data": {
            "text/html": [
              "<div>\n",
              "<style scoped>\n",
              "    .dataframe tbody tr th:only-of-type {\n",
              "        vertical-align: middle;\n",
              "    }\n",
              "\n",
              "    .dataframe tbody tr th {\n",
              "        vertical-align: top;\n",
              "    }\n",
              "\n",
              "    .dataframe thead th {\n",
              "        text-align: right;\n",
              "    }\n",
              "</style>\n",
              "<table border=\"1\" class=\"dataframe\">\n",
              "  <thead>\n",
              "    <tr style=\"text-align: right;\">\n",
              "      <th></th>\n",
              "      <th>name</th>\n",
              "      <th>city</th>\n",
              "      <th>age</th>\n",
              "      <th>py-score</th>\n",
              "    </tr>\n",
              "  </thead>\n",
              "  <tbody>\n",
              "    <tr>\n",
              "      <th>101</th>\n",
              "      <td>Xavier</td>\n",
              "      <td>Mexico City</td>\n",
              "      <td>41</td>\n",
              "      <td>88.0</td>\n",
              "    </tr>\n",
              "    <tr>\n",
              "      <th>102</th>\n",
              "      <td>Ann</td>\n",
              "      <td>Toronto</td>\n",
              "      <td>28</td>\n",
              "      <td>79.0</td>\n",
              "    </tr>\n",
              "    <tr>\n",
              "      <th>103</th>\n",
              "      <td>Jana</td>\n",
              "      <td>Prague</td>\n",
              "      <td>33</td>\n",
              "      <td>81.0</td>\n",
              "    </tr>\n",
              "    <tr>\n",
              "      <th>104</th>\n",
              "      <td>Yi</td>\n",
              "      <td>Shanghai</td>\n",
              "      <td>34</td>\n",
              "      <td>80.0</td>\n",
              "    </tr>\n",
              "    <tr>\n",
              "      <th>105</th>\n",
              "      <td>Robin</td>\n",
              "      <td>Manchester</td>\n",
              "      <td>38</td>\n",
              "      <td>68.0</td>\n",
              "    </tr>\n",
              "    <tr>\n",
              "      <th>106</th>\n",
              "      <td>Amai</td>\n",
              "      <td>Cairo</td>\n",
              "      <td>31</td>\n",
              "      <td>61.0</td>\n",
              "    </tr>\n",
              "    <tr>\n",
              "      <th>107</th>\n",
              "      <td>Nori</td>\n",
              "      <td>Osaka</td>\n",
              "      <td>37</td>\n",
              "      <td>84.0</td>\n",
              "    </tr>\n",
              "  </tbody>\n",
              "</table>\n",
              "</div>"
            ],
            "text/plain": [
              "       name         city  age  py-score\n",
              "101  Xavier  Mexico City   41      88.0\n",
              "102     Ann      Toronto   28      79.0\n",
              "103    Jana       Prague   33      81.0\n",
              "104      Yi     Shanghai   34      80.0\n",
              "105   Robin   Manchester   38      68.0\n",
              "106    Amai        Cairo   31      61.0\n",
              "107    Nori        Osaka   37      84.0"
            ]
          },
          "metadata": {
            "tags": []
          },
          "execution_count": 27
        }
      ]
    },
    {
      "cell_type": "code",
      "metadata": {
        "id": "I-nj5R3fItzr",
        "colab_type": "code",
        "colab": {
          "base_uri": "https://localhost:8080/",
          "height": 297
        },
        "outputId": "5ef34506-3c0e-4721-f6f2-7a6bb2a42a2a"
      },
      "source": [
        "john=pd.Series(data=['John', 'Boston', 34, 78], index=df1.columns, name=17)\n",
        "df1=df1.append(john)\n",
        "df1"
      ],
      "execution_count": null,
      "outputs": [
        {
          "output_type": "execute_result",
          "data": {
            "text/html": [
              "<div>\n",
              "<style scoped>\n",
              "    .dataframe tbody tr th:only-of-type {\n",
              "        vertical-align: middle;\n",
              "    }\n",
              "\n",
              "    .dataframe tbody tr th {\n",
              "        vertical-align: top;\n",
              "    }\n",
              "\n",
              "    .dataframe thead th {\n",
              "        text-align: right;\n",
              "    }\n",
              "</style>\n",
              "<table border=\"1\" class=\"dataframe\">\n",
              "  <thead>\n",
              "    <tr style=\"text-align: right;\">\n",
              "      <th></th>\n",
              "      <th>name</th>\n",
              "      <th>city</th>\n",
              "      <th>age</th>\n",
              "      <th>py-score</th>\n",
              "    </tr>\n",
              "  </thead>\n",
              "  <tbody>\n",
              "    <tr>\n",
              "      <th>101</th>\n",
              "      <td>Xavier</td>\n",
              "      <td>Mexico City</td>\n",
              "      <td>41</td>\n",
              "      <td>88.0</td>\n",
              "    </tr>\n",
              "    <tr>\n",
              "      <th>102</th>\n",
              "      <td>Ann</td>\n",
              "      <td>Toronto</td>\n",
              "      <td>28</td>\n",
              "      <td>79.0</td>\n",
              "    </tr>\n",
              "    <tr>\n",
              "      <th>103</th>\n",
              "      <td>Jana</td>\n",
              "      <td>Prague</td>\n",
              "      <td>33</td>\n",
              "      <td>81.0</td>\n",
              "    </tr>\n",
              "    <tr>\n",
              "      <th>104</th>\n",
              "      <td>Yi</td>\n",
              "      <td>Shanghai</td>\n",
              "      <td>34</td>\n",
              "      <td>80.0</td>\n",
              "    </tr>\n",
              "    <tr>\n",
              "      <th>105</th>\n",
              "      <td>Robin</td>\n",
              "      <td>Manchester</td>\n",
              "      <td>38</td>\n",
              "      <td>68.0</td>\n",
              "    </tr>\n",
              "    <tr>\n",
              "      <th>106</th>\n",
              "      <td>Amai</td>\n",
              "      <td>Cairo</td>\n",
              "      <td>31</td>\n",
              "      <td>61.0</td>\n",
              "    </tr>\n",
              "    <tr>\n",
              "      <th>107</th>\n",
              "      <td>Nori</td>\n",
              "      <td>Osaka</td>\n",
              "      <td>37</td>\n",
              "      <td>84.0</td>\n",
              "    </tr>\n",
              "    <tr>\n",
              "      <th>17</th>\n",
              "      <td>John</td>\n",
              "      <td>Boston</td>\n",
              "      <td>34</td>\n",
              "      <td>78.0</td>\n",
              "    </tr>\n",
              "  </tbody>\n",
              "</table>\n",
              "</div>"
            ],
            "text/plain": [
              "       name         city  age  py-score\n",
              "101  Xavier  Mexico City   41      88.0\n",
              "102     Ann      Toronto   28      79.0\n",
              "103    Jana       Prague   33      81.0\n",
              "104      Yi     Shanghai   34      80.0\n",
              "105   Robin   Manchester   38      68.0\n",
              "106    Amai        Cairo   31      61.0\n",
              "107    Nori        Osaka   37      84.0\n",
              "17     John       Boston   34      78.0"
            ]
          },
          "metadata": {
            "tags": []
          },
          "execution_count": 28
        }
      ]
    },
    {
      "cell_type": "code",
      "metadata": {
        "id": "778AH39MJOIM",
        "colab_type": "code",
        "colab": {
          "base_uri": "https://localhost:8080/",
          "height": 266
        },
        "outputId": "2b812f1d-1c27-4b2a-c4b7-0ce55024f06e"
      },
      "source": [
        "df1=df1.drop(labels=[17])\n",
        "df1"
      ],
      "execution_count": null,
      "outputs": [
        {
          "output_type": "execute_result",
          "data": {
            "text/html": [
              "<div>\n",
              "<style scoped>\n",
              "    .dataframe tbody tr th:only-of-type {\n",
              "        vertical-align: middle;\n",
              "    }\n",
              "\n",
              "    .dataframe tbody tr th {\n",
              "        vertical-align: top;\n",
              "    }\n",
              "\n",
              "    .dataframe thead th {\n",
              "        text-align: right;\n",
              "    }\n",
              "</style>\n",
              "<table border=\"1\" class=\"dataframe\">\n",
              "  <thead>\n",
              "    <tr style=\"text-align: right;\">\n",
              "      <th></th>\n",
              "      <th>name</th>\n",
              "      <th>city</th>\n",
              "      <th>age</th>\n",
              "      <th>py-score</th>\n",
              "    </tr>\n",
              "  </thead>\n",
              "  <tbody>\n",
              "    <tr>\n",
              "      <th>101</th>\n",
              "      <td>Xavier</td>\n",
              "      <td>Mexico City</td>\n",
              "      <td>41</td>\n",
              "      <td>88.0</td>\n",
              "    </tr>\n",
              "    <tr>\n",
              "      <th>102</th>\n",
              "      <td>Ann</td>\n",
              "      <td>Toronto</td>\n",
              "      <td>28</td>\n",
              "      <td>79.0</td>\n",
              "    </tr>\n",
              "    <tr>\n",
              "      <th>103</th>\n",
              "      <td>Jana</td>\n",
              "      <td>Prague</td>\n",
              "      <td>33</td>\n",
              "      <td>81.0</td>\n",
              "    </tr>\n",
              "    <tr>\n",
              "      <th>104</th>\n",
              "      <td>Yi</td>\n",
              "      <td>Shanghai</td>\n",
              "      <td>34</td>\n",
              "      <td>80.0</td>\n",
              "    </tr>\n",
              "    <tr>\n",
              "      <th>105</th>\n",
              "      <td>Robin</td>\n",
              "      <td>Manchester</td>\n",
              "      <td>38</td>\n",
              "      <td>68.0</td>\n",
              "    </tr>\n",
              "    <tr>\n",
              "      <th>106</th>\n",
              "      <td>Amai</td>\n",
              "      <td>Cairo</td>\n",
              "      <td>31</td>\n",
              "      <td>61.0</td>\n",
              "    </tr>\n",
              "    <tr>\n",
              "      <th>107</th>\n",
              "      <td>Nori</td>\n",
              "      <td>Osaka</td>\n",
              "      <td>37</td>\n",
              "      <td>84.0</td>\n",
              "    </tr>\n",
              "  </tbody>\n",
              "</table>\n",
              "</div>"
            ],
            "text/plain": [
              "       name         city  age  py-score\n",
              "101  Xavier  Mexico City   41      88.0\n",
              "102     Ann      Toronto   28      79.0\n",
              "103    Jana       Prague   33      81.0\n",
              "104      Yi     Shanghai   34      80.0\n",
              "105   Robin   Manchester   38      68.0\n",
              "106    Amai        Cairo   31      61.0\n",
              "107    Nori        Osaka   37      84.0"
            ]
          },
          "metadata": {
            "tags": []
          },
          "execution_count": 29
        }
      ]
    },
    {
      "cell_type": "markdown",
      "metadata": {
        "id": "fv5n_2nZLgWI",
        "colab_type": "text"
      },
      "source": [
        "Сортировка."
      ]
    },
    {
      "cell_type": "code",
      "metadata": {
        "id": "bwzENEkTJbA7",
        "colab_type": "code",
        "colab": {
          "base_uri": "https://localhost:8080/",
          "height": 266
        },
        "outputId": "f2ebd126-e34d-4289-c563-2de19e0db5fd"
      },
      "source": [
        "df1.sort_values(by='py-score', ascending=False)"
      ],
      "execution_count": null,
      "outputs": [
        {
          "output_type": "execute_result",
          "data": {
            "text/html": [
              "<div>\n",
              "<style scoped>\n",
              "    .dataframe tbody tr th:only-of-type {\n",
              "        vertical-align: middle;\n",
              "    }\n",
              "\n",
              "    .dataframe tbody tr th {\n",
              "        vertical-align: top;\n",
              "    }\n",
              "\n",
              "    .dataframe thead th {\n",
              "        text-align: right;\n",
              "    }\n",
              "</style>\n",
              "<table border=\"1\" class=\"dataframe\">\n",
              "  <thead>\n",
              "    <tr style=\"text-align: right;\">\n",
              "      <th></th>\n",
              "      <th>name</th>\n",
              "      <th>city</th>\n",
              "      <th>age</th>\n",
              "      <th>py-score</th>\n",
              "    </tr>\n",
              "  </thead>\n",
              "  <tbody>\n",
              "    <tr>\n",
              "      <th>101</th>\n",
              "      <td>Xavier</td>\n",
              "      <td>Mexico City</td>\n",
              "      <td>41</td>\n",
              "      <td>88.0</td>\n",
              "    </tr>\n",
              "    <tr>\n",
              "      <th>107</th>\n",
              "      <td>Nori</td>\n",
              "      <td>Osaka</td>\n",
              "      <td>37</td>\n",
              "      <td>84.0</td>\n",
              "    </tr>\n",
              "    <tr>\n",
              "      <th>103</th>\n",
              "      <td>Jana</td>\n",
              "      <td>Prague</td>\n",
              "      <td>33</td>\n",
              "      <td>81.0</td>\n",
              "    </tr>\n",
              "    <tr>\n",
              "      <th>104</th>\n",
              "      <td>Yi</td>\n",
              "      <td>Shanghai</td>\n",
              "      <td>34</td>\n",
              "      <td>80.0</td>\n",
              "    </tr>\n",
              "    <tr>\n",
              "      <th>102</th>\n",
              "      <td>Ann</td>\n",
              "      <td>Toronto</td>\n",
              "      <td>28</td>\n",
              "      <td>79.0</td>\n",
              "    </tr>\n",
              "    <tr>\n",
              "      <th>105</th>\n",
              "      <td>Robin</td>\n",
              "      <td>Manchester</td>\n",
              "      <td>38</td>\n",
              "      <td>68.0</td>\n",
              "    </tr>\n",
              "    <tr>\n",
              "      <th>106</th>\n",
              "      <td>Amai</td>\n",
              "      <td>Cairo</td>\n",
              "      <td>31</td>\n",
              "      <td>61.0</td>\n",
              "    </tr>\n",
              "  </tbody>\n",
              "</table>\n",
              "</div>"
            ],
            "text/plain": [
              "       name         city  age  py-score\n",
              "101  Xavier  Mexico City   41      88.0\n",
              "107    Nori        Osaka   37      84.0\n",
              "103    Jana       Prague   33      81.0\n",
              "104      Yi     Shanghai   34      80.0\n",
              "102     Ann      Toronto   28      79.0\n",
              "105   Robin   Manchester   38      68.0\n",
              "106    Amai        Cairo   31      61.0"
            ]
          },
          "metadata": {
            "tags": []
          },
          "execution_count": 31
        }
      ]
    },
    {
      "cell_type": "code",
      "metadata": {
        "id": "WP65N3TnJ6pc",
        "colab_type": "code",
        "colab": {
          "base_uri": "https://localhost:8080/",
          "height": 266
        },
        "outputId": "7385bbc7-3b24-4c3a-ac5e-76304be8af28"
      },
      "source": [
        "df1.sort_values(by=['py-score', 'age'], ascending=[False, True])"
      ],
      "execution_count": null,
      "outputs": [
        {
          "output_type": "execute_result",
          "data": {
            "text/html": [
              "<div>\n",
              "<style scoped>\n",
              "    .dataframe tbody tr th:only-of-type {\n",
              "        vertical-align: middle;\n",
              "    }\n",
              "\n",
              "    .dataframe tbody tr th {\n",
              "        vertical-align: top;\n",
              "    }\n",
              "\n",
              "    .dataframe thead th {\n",
              "        text-align: right;\n",
              "    }\n",
              "</style>\n",
              "<table border=\"1\" class=\"dataframe\">\n",
              "  <thead>\n",
              "    <tr style=\"text-align: right;\">\n",
              "      <th></th>\n",
              "      <th>name</th>\n",
              "      <th>city</th>\n",
              "      <th>age</th>\n",
              "      <th>py-score</th>\n",
              "    </tr>\n",
              "  </thead>\n",
              "  <tbody>\n",
              "    <tr>\n",
              "      <th>101</th>\n",
              "      <td>Xavier</td>\n",
              "      <td>Mexico City</td>\n",
              "      <td>41</td>\n",
              "      <td>88.0</td>\n",
              "    </tr>\n",
              "    <tr>\n",
              "      <th>107</th>\n",
              "      <td>Nori</td>\n",
              "      <td>Osaka</td>\n",
              "      <td>37</td>\n",
              "      <td>84.0</td>\n",
              "    </tr>\n",
              "    <tr>\n",
              "      <th>103</th>\n",
              "      <td>Jana</td>\n",
              "      <td>Prague</td>\n",
              "      <td>33</td>\n",
              "      <td>81.0</td>\n",
              "    </tr>\n",
              "    <tr>\n",
              "      <th>104</th>\n",
              "      <td>Yi</td>\n",
              "      <td>Shanghai</td>\n",
              "      <td>34</td>\n",
              "      <td>80.0</td>\n",
              "    </tr>\n",
              "    <tr>\n",
              "      <th>102</th>\n",
              "      <td>Ann</td>\n",
              "      <td>Toronto</td>\n",
              "      <td>28</td>\n",
              "      <td>79.0</td>\n",
              "    </tr>\n",
              "    <tr>\n",
              "      <th>105</th>\n",
              "      <td>Robin</td>\n",
              "      <td>Manchester</td>\n",
              "      <td>38</td>\n",
              "      <td>68.0</td>\n",
              "    </tr>\n",
              "    <tr>\n",
              "      <th>106</th>\n",
              "      <td>Amai</td>\n",
              "      <td>Cairo</td>\n",
              "      <td>31</td>\n",
              "      <td>61.0</td>\n",
              "    </tr>\n",
              "  </tbody>\n",
              "</table>\n",
              "</div>"
            ],
            "text/plain": [
              "       name         city  age  py-score\n",
              "101  Xavier  Mexico City   41      88.0\n",
              "107    Nori        Osaka   37      84.0\n",
              "103    Jana       Prague   33      81.0\n",
              "104      Yi     Shanghai   34      80.0\n",
              "102     Ann      Toronto   28      79.0\n",
              "105   Robin   Manchester   38      68.0\n",
              "106    Amai        Cairo   31      61.0"
            ]
          },
          "metadata": {
            "tags": []
          },
          "execution_count": 32
        }
      ]
    },
    {
      "cell_type": "markdown",
      "metadata": {
        "id": "shZexgd6Lijn",
        "colab_type": "text"
      },
      "source": [
        "Фильтры, отбор по логическим условиям."
      ]
    },
    {
      "cell_type": "code",
      "metadata": {
        "id": "eWXH6ynDKUdK",
        "colab_type": "code",
        "colab": {
          "base_uri": "https://localhost:8080/",
          "height": 153
        },
        "outputId": "597a9b2d-fb21-48a7-cb2c-4126d1797cb5"
      },
      "source": [
        "mask = df1['age'] < 38\n",
        "mask"
      ],
      "execution_count": null,
      "outputs": [
        {
          "output_type": "execute_result",
          "data": {
            "text/plain": [
              "101    False\n",
              "102     True\n",
              "103     True\n",
              "104     True\n",
              "105    False\n",
              "106     True\n",
              "107     True\n",
              "Name: age, dtype: bool"
            ]
          },
          "metadata": {
            "tags": []
          },
          "execution_count": 36
        }
      ]
    },
    {
      "cell_type": "code",
      "metadata": {
        "id": "mXQ6cxzeKyD5",
        "colab_type": "code",
        "colab": {
          "base_uri": "https://localhost:8080/",
          "height": 204
        },
        "outputId": "6f80a0ee-329b-4b61-acd5-6a1a63c38673"
      },
      "source": [
        "df1[mask]"
      ],
      "execution_count": null,
      "outputs": [
        {
          "output_type": "execute_result",
          "data": {
            "text/html": [
              "<div>\n",
              "<style scoped>\n",
              "    .dataframe tbody tr th:only-of-type {\n",
              "        vertical-align: middle;\n",
              "    }\n",
              "\n",
              "    .dataframe tbody tr th {\n",
              "        vertical-align: top;\n",
              "    }\n",
              "\n",
              "    .dataframe thead th {\n",
              "        text-align: right;\n",
              "    }\n",
              "</style>\n",
              "<table border=\"1\" class=\"dataframe\">\n",
              "  <thead>\n",
              "    <tr style=\"text-align: right;\">\n",
              "      <th></th>\n",
              "      <th>name</th>\n",
              "      <th>city</th>\n",
              "      <th>age</th>\n",
              "      <th>py-score</th>\n",
              "    </tr>\n",
              "  </thead>\n",
              "  <tbody>\n",
              "    <tr>\n",
              "      <th>102</th>\n",
              "      <td>Ann</td>\n",
              "      <td>Toronto</td>\n",
              "      <td>28</td>\n",
              "      <td>79.0</td>\n",
              "    </tr>\n",
              "    <tr>\n",
              "      <th>103</th>\n",
              "      <td>Jana</td>\n",
              "      <td>Prague</td>\n",
              "      <td>33</td>\n",
              "      <td>81.0</td>\n",
              "    </tr>\n",
              "    <tr>\n",
              "      <th>104</th>\n",
              "      <td>Yi</td>\n",
              "      <td>Shanghai</td>\n",
              "      <td>34</td>\n",
              "      <td>80.0</td>\n",
              "    </tr>\n",
              "    <tr>\n",
              "      <th>106</th>\n",
              "      <td>Amai</td>\n",
              "      <td>Cairo</td>\n",
              "      <td>31</td>\n",
              "      <td>61.0</td>\n",
              "    </tr>\n",
              "    <tr>\n",
              "      <th>107</th>\n",
              "      <td>Nori</td>\n",
              "      <td>Osaka</td>\n",
              "      <td>37</td>\n",
              "      <td>84.0</td>\n",
              "    </tr>\n",
              "  </tbody>\n",
              "</table>\n",
              "</div>"
            ],
            "text/plain": [
              "     name      city  age  py-score\n",
              "102   Ann   Toronto   28      79.0\n",
              "103  Jana    Prague   33      81.0\n",
              "104    Yi  Shanghai   34      80.0\n",
              "106  Amai     Cairo   31      61.0\n",
              "107  Nori     Osaka   37      84.0"
            ]
          },
          "metadata": {
            "tags": []
          },
          "execution_count": 37
        }
      ]
    },
    {
      "cell_type": "code",
      "metadata": {
        "id": "wCAvxe2WK6Yy",
        "colab_type": "code",
        "colab": {
          "base_uri": "https://localhost:8080/",
          "height": 142
        },
        "outputId": "3129e1b5-314a-4cbd-bce1-f5c13c287db9"
      },
      "source": [
        "df1[ (df1['age'] < 38) & (df1['py-score'] >= 80) ]"
      ],
      "execution_count": null,
      "outputs": [
        {
          "output_type": "execute_result",
          "data": {
            "text/html": [
              "<div>\n",
              "<style scoped>\n",
              "    .dataframe tbody tr th:only-of-type {\n",
              "        vertical-align: middle;\n",
              "    }\n",
              "\n",
              "    .dataframe tbody tr th {\n",
              "        vertical-align: top;\n",
              "    }\n",
              "\n",
              "    .dataframe thead th {\n",
              "        text-align: right;\n",
              "    }\n",
              "</style>\n",
              "<table border=\"1\" class=\"dataframe\">\n",
              "  <thead>\n",
              "    <tr style=\"text-align: right;\">\n",
              "      <th></th>\n",
              "      <th>name</th>\n",
              "      <th>city</th>\n",
              "      <th>age</th>\n",
              "      <th>py-score</th>\n",
              "    </tr>\n",
              "  </thead>\n",
              "  <tbody>\n",
              "    <tr>\n",
              "      <th>103</th>\n",
              "      <td>Jana</td>\n",
              "      <td>Prague</td>\n",
              "      <td>33</td>\n",
              "      <td>81.0</td>\n",
              "    </tr>\n",
              "    <tr>\n",
              "      <th>104</th>\n",
              "      <td>Yi</td>\n",
              "      <td>Shanghai</td>\n",
              "      <td>34</td>\n",
              "      <td>80.0</td>\n",
              "    </tr>\n",
              "    <tr>\n",
              "      <th>107</th>\n",
              "      <td>Nori</td>\n",
              "      <td>Osaka</td>\n",
              "      <td>37</td>\n",
              "      <td>84.0</td>\n",
              "    </tr>\n",
              "  </tbody>\n",
              "</table>\n",
              "</div>"
            ],
            "text/plain": [
              "     name      city  age  py-score\n",
              "103  Jana    Prague   33      81.0\n",
              "104    Yi  Shanghai   34      80.0\n",
              "107  Nori     Osaka   37      84.0"
            ]
          },
          "metadata": {
            "tags": []
          },
          "execution_count": 39
        }
      ]
    },
    {
      "cell_type": "code",
      "metadata": {
        "id": "FlwrFqTLLlIR",
        "colab_type": "code",
        "colab": {
          "base_uri": "https://localhost:8080/",
          "height": 153
        },
        "outputId": "4a04502f-ff02-423f-be6b-ca16e66bfa23"
      },
      "source": [
        "df1['city'].where(cond=(df1['city'] == 'Osaka'), other='No City')"
      ],
      "execution_count": null,
      "outputs": [
        {
          "output_type": "execute_result",
          "data": {
            "text/plain": [
              "101    No City\n",
              "102    No City\n",
              "103    No City\n",
              "104    No City\n",
              "105    No City\n",
              "106    No City\n",
              "107      Osaka\n",
              "Name: city, dtype: object"
            ]
          },
          "metadata": {
            "tags": []
          },
          "execution_count": 43
        }
      ]
    },
    {
      "cell_type": "markdown",
      "metadata": {
        "id": "nzjS_a7ZLonn",
        "colab_type": "text"
      },
      "source": [
        "Обработка пропусков."
      ]
    },
    {
      "cell_type": "code",
      "metadata": {
        "id": "l_Vs0QjDMHo7",
        "colab_type": "code",
        "colab": {
          "base_uri": "https://localhost:8080/",
          "height": 266
        },
        "outputId": "4818f913-d41c-4fc1-f276-f8292916ecb3"
      },
      "source": [
        "df1.loc[102,'age']=np.nan\n",
        "df1.loc[106,'age']=np.nan\n",
        "df1.loc[101,'py-score']=np.nan\n",
        "df1.loc[107,'py-score']=np.nan\n",
        "df1"
      ],
      "execution_count": null,
      "outputs": [
        {
          "output_type": "execute_result",
          "data": {
            "text/html": [
              "<div>\n",
              "<style scoped>\n",
              "    .dataframe tbody tr th:only-of-type {\n",
              "        vertical-align: middle;\n",
              "    }\n",
              "\n",
              "    .dataframe tbody tr th {\n",
              "        vertical-align: top;\n",
              "    }\n",
              "\n",
              "    .dataframe thead th {\n",
              "        text-align: right;\n",
              "    }\n",
              "</style>\n",
              "<table border=\"1\" class=\"dataframe\">\n",
              "  <thead>\n",
              "    <tr style=\"text-align: right;\">\n",
              "      <th></th>\n",
              "      <th>name</th>\n",
              "      <th>city</th>\n",
              "      <th>age</th>\n",
              "      <th>py-score</th>\n",
              "    </tr>\n",
              "  </thead>\n",
              "  <tbody>\n",
              "    <tr>\n",
              "      <th>101</th>\n",
              "      <td>Xavier</td>\n",
              "      <td>Mexico City</td>\n",
              "      <td>41.0</td>\n",
              "      <td>NaN</td>\n",
              "    </tr>\n",
              "    <tr>\n",
              "      <th>102</th>\n",
              "      <td>Ann</td>\n",
              "      <td>Toronto</td>\n",
              "      <td>NaN</td>\n",
              "      <td>79.0</td>\n",
              "    </tr>\n",
              "    <tr>\n",
              "      <th>103</th>\n",
              "      <td>Jana</td>\n",
              "      <td>Prague</td>\n",
              "      <td>33.0</td>\n",
              "      <td>81.0</td>\n",
              "    </tr>\n",
              "    <tr>\n",
              "      <th>104</th>\n",
              "      <td>Yi</td>\n",
              "      <td>Shanghai</td>\n",
              "      <td>34.0</td>\n",
              "      <td>80.0</td>\n",
              "    </tr>\n",
              "    <tr>\n",
              "      <th>105</th>\n",
              "      <td>Robin</td>\n",
              "      <td>Manchester</td>\n",
              "      <td>38.0</td>\n",
              "      <td>68.0</td>\n",
              "    </tr>\n",
              "    <tr>\n",
              "      <th>106</th>\n",
              "      <td>Amai</td>\n",
              "      <td>Cairo</td>\n",
              "      <td>NaN</td>\n",
              "      <td>61.0</td>\n",
              "    </tr>\n",
              "    <tr>\n",
              "      <th>107</th>\n",
              "      <td>Nori</td>\n",
              "      <td>Osaka</td>\n",
              "      <td>37.0</td>\n",
              "      <td>NaN</td>\n",
              "    </tr>\n",
              "  </tbody>\n",
              "</table>\n",
              "</div>"
            ],
            "text/plain": [
              "       name         city   age  py-score\n",
              "101  Xavier  Mexico City  41.0       NaN\n",
              "102     Ann      Toronto   NaN      79.0\n",
              "103    Jana       Prague  33.0      81.0\n",
              "104      Yi     Shanghai  34.0      80.0\n",
              "105   Robin   Manchester  38.0      68.0\n",
              "106    Amai        Cairo   NaN      61.0\n",
              "107    Nori        Osaka  37.0       NaN"
            ]
          },
          "metadata": {
            "tags": []
          },
          "execution_count": 46
        }
      ]
    },
    {
      "cell_type": "code",
      "metadata": {
        "id": "VfVv5n1wMn55",
        "colab_type": "code",
        "colab": {
          "base_uri": "https://localhost:8080/",
          "height": 204
        },
        "outputId": "2eeaba57-3689-4412-a61a-c3ab2e9bfddd"
      },
      "source": [
        "df1.info()"
      ],
      "execution_count": null,
      "outputs": [
        {
          "output_type": "stream",
          "text": [
            "<class 'pandas.core.frame.DataFrame'>\n",
            "Int64Index: 7 entries, 101 to 107\n",
            "Data columns (total 4 columns):\n",
            " #   Column    Non-Null Count  Dtype  \n",
            "---  ------    --------------  -----  \n",
            " 0   name      7 non-null      object \n",
            " 1   city      7 non-null      object \n",
            " 2   age       5 non-null      float64\n",
            " 3   py-score  5 non-null      float64\n",
            "dtypes: float64(2), object(2)\n",
            "memory usage: 600.0+ bytes\n"
          ],
          "name": "stdout"
        }
      ]
    },
    {
      "cell_type": "code",
      "metadata": {
        "id": "ZltDOx1gM6Go",
        "colab_type": "code",
        "colab": {
          "base_uri": "https://localhost:8080/",
          "height": 119
        },
        "outputId": "24ac3c09-3fa5-49db-de08-ecd685e3c632"
      },
      "source": [
        "print(\"число пропусков\")\n",
        "df1.isna().sum()"
      ],
      "execution_count": null,
      "outputs": [
        {
          "output_type": "stream",
          "text": [
            "число пропусков\n"
          ],
          "name": "stdout"
        },
        {
          "output_type": "execute_result",
          "data": {
            "text/plain": [
              "name        0\n",
              "city        0\n",
              "age         2\n",
              "py-score    2\n",
              "dtype: int64"
            ]
          },
          "metadata": {
            "tags": []
          },
          "execution_count": 50
        }
      ]
    },
    {
      "cell_type": "code",
      "metadata": {
        "id": "zGZM_cHcNTVy",
        "colab_type": "code",
        "colab": {
          "base_uri": "https://localhost:8080/",
          "height": 119
        },
        "outputId": "019b76c4-17a7-4fa9-c414-0dadc97fd68f"
      },
      "source": [
        "print(\"число пропусков, %\")\n",
        "df1.isna().sum()*100/7"
      ],
      "execution_count": null,
      "outputs": [
        {
          "output_type": "stream",
          "text": [
            "число пропусков, %\n"
          ],
          "name": "stdout"
        },
        {
          "output_type": "execute_result",
          "data": {
            "text/plain": [
              "name         0.000000\n",
              "city         0.000000\n",
              "age         28.571429\n",
              "py-score    28.571429\n",
              "dtype: float64"
            ]
          },
          "metadata": {
            "tags": []
          },
          "execution_count": 51
        }
      ]
    },
    {
      "cell_type": "code",
      "metadata": {
        "id": "fDNYP8qbOMwf",
        "colab_type": "code",
        "colab": {
          "base_uri": "https://localhost:8080/",
          "height": 68
        },
        "outputId": "0c3b03dc-457b-40cc-88c7-96594911f7cb"
      },
      "source": [
        "df1.mean()"
      ],
      "execution_count": null,
      "outputs": [
        {
          "output_type": "execute_result",
          "data": {
            "text/plain": [
              "age         36.6\n",
              "py-score    73.8\n",
              "dtype: float64"
            ]
          },
          "metadata": {
            "tags": []
          },
          "execution_count": 52
        }
      ]
    },
    {
      "cell_type": "code",
      "metadata": {
        "id": "VzkRRG5POQ5n",
        "colab_type": "code",
        "colab": {
          "base_uri": "https://localhost:8080/",
          "height": 68
        },
        "outputId": "f612eaa0-06a7-4a53-98e8-1e24e65b2bb7"
      },
      "source": [
        "df1.mean(skipna=False)"
      ],
      "execution_count": null,
      "outputs": [
        {
          "output_type": "execute_result",
          "data": {
            "text/plain": [
              "age        NaN\n",
              "py-score   NaN\n",
              "dtype: float64"
            ]
          },
          "metadata": {
            "tags": []
          },
          "execution_count": 53
        }
      ]
    },
    {
      "cell_type": "code",
      "metadata": {
        "id": "TLidnWoCOadm",
        "colab_type": "code",
        "colab": {
          "base_uri": "https://localhost:8080/",
          "height": 142
        },
        "outputId": "5812027d-2dad-4dba-89d3-4161e7e64544"
      },
      "source": [
        "df1.dropna()"
      ],
      "execution_count": null,
      "outputs": [
        {
          "output_type": "execute_result",
          "data": {
            "text/html": [
              "<div>\n",
              "<style scoped>\n",
              "    .dataframe tbody tr th:only-of-type {\n",
              "        vertical-align: middle;\n",
              "    }\n",
              "\n",
              "    .dataframe tbody tr th {\n",
              "        vertical-align: top;\n",
              "    }\n",
              "\n",
              "    .dataframe thead th {\n",
              "        text-align: right;\n",
              "    }\n",
              "</style>\n",
              "<table border=\"1\" class=\"dataframe\">\n",
              "  <thead>\n",
              "    <tr style=\"text-align: right;\">\n",
              "      <th></th>\n",
              "      <th>name</th>\n",
              "      <th>city</th>\n",
              "      <th>age</th>\n",
              "      <th>py-score</th>\n",
              "    </tr>\n",
              "  </thead>\n",
              "  <tbody>\n",
              "    <tr>\n",
              "      <th>103</th>\n",
              "      <td>Jana</td>\n",
              "      <td>Prague</td>\n",
              "      <td>33.0</td>\n",
              "      <td>81.0</td>\n",
              "    </tr>\n",
              "    <tr>\n",
              "      <th>104</th>\n",
              "      <td>Yi</td>\n",
              "      <td>Shanghai</td>\n",
              "      <td>34.0</td>\n",
              "      <td>80.0</td>\n",
              "    </tr>\n",
              "    <tr>\n",
              "      <th>105</th>\n",
              "      <td>Robin</td>\n",
              "      <td>Manchester</td>\n",
              "      <td>38.0</td>\n",
              "      <td>68.0</td>\n",
              "    </tr>\n",
              "  </tbody>\n",
              "</table>\n",
              "</div>"
            ],
            "text/plain": [
              "      name        city   age  py-score\n",
              "103   Jana      Prague  33.0      81.0\n",
              "104     Yi    Shanghai  34.0      80.0\n",
              "105  Robin  Manchester  38.0      68.0"
            ]
          },
          "metadata": {
            "tags": []
          },
          "execution_count": 54
        }
      ]
    },
    {
      "cell_type": "code",
      "metadata": {
        "id": "syXMRp7EOpvB",
        "colab_type": "code",
        "colab": {
          "base_uri": "https://localhost:8080/",
          "height": 266
        },
        "outputId": "0c5eaee4-b758-4bb1-f1d4-2d9527106254"
      },
      "source": [
        "df1.dropna(axis=1)"
      ],
      "execution_count": null,
      "outputs": [
        {
          "output_type": "execute_result",
          "data": {
            "text/html": [
              "<div>\n",
              "<style scoped>\n",
              "    .dataframe tbody tr th:only-of-type {\n",
              "        vertical-align: middle;\n",
              "    }\n",
              "\n",
              "    .dataframe tbody tr th {\n",
              "        vertical-align: top;\n",
              "    }\n",
              "\n",
              "    .dataframe thead th {\n",
              "        text-align: right;\n",
              "    }\n",
              "</style>\n",
              "<table border=\"1\" class=\"dataframe\">\n",
              "  <thead>\n",
              "    <tr style=\"text-align: right;\">\n",
              "      <th></th>\n",
              "      <th>name</th>\n",
              "      <th>city</th>\n",
              "    </tr>\n",
              "  </thead>\n",
              "  <tbody>\n",
              "    <tr>\n",
              "      <th>101</th>\n",
              "      <td>Xavier</td>\n",
              "      <td>Mexico City</td>\n",
              "    </tr>\n",
              "    <tr>\n",
              "      <th>102</th>\n",
              "      <td>Ann</td>\n",
              "      <td>Toronto</td>\n",
              "    </tr>\n",
              "    <tr>\n",
              "      <th>103</th>\n",
              "      <td>Jana</td>\n",
              "      <td>Prague</td>\n",
              "    </tr>\n",
              "    <tr>\n",
              "      <th>104</th>\n",
              "      <td>Yi</td>\n",
              "      <td>Shanghai</td>\n",
              "    </tr>\n",
              "    <tr>\n",
              "      <th>105</th>\n",
              "      <td>Robin</td>\n",
              "      <td>Manchester</td>\n",
              "    </tr>\n",
              "    <tr>\n",
              "      <th>106</th>\n",
              "      <td>Amai</td>\n",
              "      <td>Cairo</td>\n",
              "    </tr>\n",
              "    <tr>\n",
              "      <th>107</th>\n",
              "      <td>Nori</td>\n",
              "      <td>Osaka</td>\n",
              "    </tr>\n",
              "  </tbody>\n",
              "</table>\n",
              "</div>"
            ],
            "text/plain": [
              "       name         city\n",
              "101  Xavier  Mexico City\n",
              "102     Ann      Toronto\n",
              "103    Jana       Prague\n",
              "104      Yi     Shanghai\n",
              "105   Robin   Manchester\n",
              "106    Amai        Cairo\n",
              "107    Nori        Osaka"
            ]
          },
          "metadata": {
            "tags": []
          },
          "execution_count": 55
        }
      ]
    },
    {
      "cell_type": "code",
      "metadata": {
        "id": "IVfkEcphO5dm",
        "colab_type": "code",
        "colab": {
          "base_uri": "https://localhost:8080/",
          "height": 163
        },
        "outputId": "e364d7a1-6ad1-423a-b620-90e0eb33412c"
      },
      "source": [
        "df1['age'].fillna(value=35)"
      ],
      "execution_count": null,
      "outputs": [
        {
          "output_type": "execute_result",
          "data": {
            "text/plain": [
              "101    41.0\n",
              "102    35.0\n",
              "103    33.0\n",
              "104    34.0\n",
              "105    38.0\n",
              "106    35.0\n",
              "107    37.0\n",
              "Name: age, dtype: float64"
            ]
          },
          "metadata": {
            "tags": []
          },
          "execution_count": 57
        }
      ]
    },
    {
      "cell_type": "code",
      "metadata": {
        "id": "cNKFS8RUPVzx",
        "colab_type": "code",
        "colab": {
          "base_uri": "https://localhost:8080/",
          "height": 258
        },
        "outputId": "1207b43b-2b07-4d19-8312-6b3f508524ed"
      },
      "source": [
        "df1.fillna(df1.mean())"
      ],
      "execution_count": null,
      "outputs": [
        {
          "output_type": "execute_result",
          "data": {
            "text/html": [
              "<div>\n",
              "<style scoped>\n",
              "    .dataframe tbody tr th:only-of-type {\n",
              "        vertical-align: middle;\n",
              "    }\n",
              "\n",
              "    .dataframe tbody tr th {\n",
              "        vertical-align: top;\n",
              "    }\n",
              "\n",
              "    .dataframe thead th {\n",
              "        text-align: right;\n",
              "    }\n",
              "</style>\n",
              "<table border=\"1\" class=\"dataframe\">\n",
              "  <thead>\n",
              "    <tr style=\"text-align: right;\">\n",
              "      <th></th>\n",
              "      <th>name</th>\n",
              "      <th>city</th>\n",
              "      <th>age</th>\n",
              "      <th>py-score</th>\n",
              "    </tr>\n",
              "  </thead>\n",
              "  <tbody>\n",
              "    <tr>\n",
              "      <th>101</th>\n",
              "      <td>Xavier</td>\n",
              "      <td>Mexico City</td>\n",
              "      <td>41.0</td>\n",
              "      <td>73.8</td>\n",
              "    </tr>\n",
              "    <tr>\n",
              "      <th>102</th>\n",
              "      <td>Ann</td>\n",
              "      <td>Toronto</td>\n",
              "      <td>36.6</td>\n",
              "      <td>79.0</td>\n",
              "    </tr>\n",
              "    <tr>\n",
              "      <th>103</th>\n",
              "      <td>Jana</td>\n",
              "      <td>Prague</td>\n",
              "      <td>33.0</td>\n",
              "      <td>81.0</td>\n",
              "    </tr>\n",
              "    <tr>\n",
              "      <th>104</th>\n",
              "      <td>Yi</td>\n",
              "      <td>Shanghai</td>\n",
              "      <td>34.0</td>\n",
              "      <td>80.0</td>\n",
              "    </tr>\n",
              "    <tr>\n",
              "      <th>105</th>\n",
              "      <td>Robin</td>\n",
              "      <td>Manchester</td>\n",
              "      <td>38.0</td>\n",
              "      <td>68.0</td>\n",
              "    </tr>\n",
              "    <tr>\n",
              "      <th>106</th>\n",
              "      <td>Amai</td>\n",
              "      <td>Cairo</td>\n",
              "      <td>36.6</td>\n",
              "      <td>61.0</td>\n",
              "    </tr>\n",
              "    <tr>\n",
              "      <th>107</th>\n",
              "      <td>Nori</td>\n",
              "      <td>Osaka</td>\n",
              "      <td>37.0</td>\n",
              "      <td>73.8</td>\n",
              "    </tr>\n",
              "  </tbody>\n",
              "</table>\n",
              "</div>"
            ],
            "text/plain": [
              "       name         city   age  py-score\n",
              "101  Xavier  Mexico City  41.0      73.8\n",
              "102     Ann      Toronto  36.6      79.0\n",
              "103    Jana       Prague  33.0      81.0\n",
              "104      Yi     Shanghai  34.0      80.0\n",
              "105   Robin   Manchester  38.0      68.0\n",
              "106    Amai        Cairo  36.6      61.0\n",
              "107    Nori        Osaka  37.0      73.8"
            ]
          },
          "metadata": {
            "tags": []
          },
          "execution_count": 58
        }
      ]
    },
    {
      "cell_type": "markdown",
      "metadata": {
        "id": "td3AJaiDMiJj",
        "colab_type": "text"
      },
      "source": [
        "DataFrame как последовательность значений."
      ]
    },
    {
      "cell_type": "code",
      "metadata": {
        "id": "ij7M0m0DNElz",
        "colab_type": "code",
        "colab": {
          "base_uri": "https://localhost:8080/",
          "height": 424
        },
        "outputId": "cdb37f08-e6f3-4f78-ce4e-2a5ef8f4ec1e"
      },
      "source": [
        "N = 100\n",
        "rng = pd.date_range('2020-09-21', freq='MS', periods=N)\n",
        "df3 = pd.DataFrame(np.random.rand(N, 1), columns=['x'], index=rng)\n",
        "df3"
      ],
      "execution_count": null,
      "outputs": [
        {
          "output_type": "execute_result",
          "data": {
            "text/html": [
              "<div>\n",
              "<style scoped>\n",
              "    .dataframe tbody tr th:only-of-type {\n",
              "        vertical-align: middle;\n",
              "    }\n",
              "\n",
              "    .dataframe tbody tr th {\n",
              "        vertical-align: top;\n",
              "    }\n",
              "\n",
              "    .dataframe thead th {\n",
              "        text-align: right;\n",
              "    }\n",
              "</style>\n",
              "<table border=\"1\" class=\"dataframe\">\n",
              "  <thead>\n",
              "    <tr style=\"text-align: right;\">\n",
              "      <th></th>\n",
              "      <th>x</th>\n",
              "    </tr>\n",
              "  </thead>\n",
              "  <tbody>\n",
              "    <tr>\n",
              "      <th>2020-10-01</th>\n",
              "      <td>0.642618</td>\n",
              "    </tr>\n",
              "    <tr>\n",
              "      <th>2020-11-01</th>\n",
              "      <td>0.059845</td>\n",
              "    </tr>\n",
              "    <tr>\n",
              "      <th>2020-12-01</th>\n",
              "      <td>0.133975</td>\n",
              "    </tr>\n",
              "    <tr>\n",
              "      <th>2021-01-01</th>\n",
              "      <td>0.249450</td>\n",
              "    </tr>\n",
              "    <tr>\n",
              "      <th>2021-02-01</th>\n",
              "      <td>0.685381</td>\n",
              "    </tr>\n",
              "    <tr>\n",
              "      <th>...</th>\n",
              "      <td>...</td>\n",
              "    </tr>\n",
              "    <tr>\n",
              "      <th>2028-09-01</th>\n",
              "      <td>0.211927</td>\n",
              "    </tr>\n",
              "    <tr>\n",
              "      <th>2028-10-01</th>\n",
              "      <td>0.259414</td>\n",
              "    </tr>\n",
              "    <tr>\n",
              "      <th>2028-11-01</th>\n",
              "      <td>0.931797</td>\n",
              "    </tr>\n",
              "    <tr>\n",
              "      <th>2028-12-01</th>\n",
              "      <td>0.594737</td>\n",
              "    </tr>\n",
              "    <tr>\n",
              "      <th>2029-01-01</th>\n",
              "      <td>0.655095</td>\n",
              "    </tr>\n",
              "  </tbody>\n",
              "</table>\n",
              "<p>100 rows × 1 columns</p>\n",
              "</div>"
            ],
            "text/plain": [
              "                   x\n",
              "2020-10-01  0.642618\n",
              "2020-11-01  0.059845\n",
              "2020-12-01  0.133975\n",
              "2021-01-01  0.249450\n",
              "2021-02-01  0.685381\n",
              "...              ...\n",
              "2028-09-01  0.211927\n",
              "2028-10-01  0.259414\n",
              "2028-11-01  0.931797\n",
              "2028-12-01  0.594737\n",
              "2029-01-01  0.655095\n",
              "\n",
              "[100 rows x 1 columns]"
            ]
          },
          "metadata": {
            "tags": []
          },
          "execution_count": 28
        }
      ]
    },
    {
      "cell_type": "code",
      "metadata": {
        "id": "pDury1b2NKBZ",
        "colab_type": "code",
        "colab": {
          "base_uri": "https://localhost:8080/",
          "height": 374
        },
        "outputId": "c27c500d-25da-42a9-b142-3661f7609a96"
      },
      "source": [
        "fig, ax = plt.subplots(figsize=(15,6))\n",
        "df3.plot(ax=ax, marker='o')\n",
        "ax.get_legend().remove()\n",
        "plt.show()"
      ],
      "execution_count": null,
      "outputs": [
        {
          "output_type": "display_data",
          "data": {
            "image/png": "[encoded data removed]",
            "text/plain": [
              "<Figure size 1080x432 with 1 Axes>"
            ]
          },
          "metadata": {
            "tags": [],
            "needs_background": "light"
          }
        }
      ]
    },
    {
      "cell_type": "code",
      "metadata": {
        "id": "U21X6BqJOGqS",
        "colab_type": "code",
        "colab": {
          "base_uri": "https://localhost:8080/",
          "height": 410
        },
        "outputId": "c7ed37e9-3f5c-40b3-ef99-e7ee9b5c4909"
      },
      "source": [
        "df4=df3.copy()\n",
        "df4.loc[df4.sample(frac=0.3).index] = pd.np.nan\n",
        "\n",
        "fig, ax = plt.subplots(figsize=(15,6))\n",
        "df4.plot(ax=ax, marker='o')\n",
        "ax.get_legend().remove()\n",
        "plt.show()"
      ],
      "execution_count": null,
      "outputs": [
        {
          "output_type": "stream",
          "text": [
            "/usr/local/lib/python3.6/dist-packages/ipykernel_launcher.py:2: FutureWarning: The pandas.np module is deprecated and will be removed from pandas in a future version. Import numpy directly instead\n",
            "  \n"
          ],
          "name": "stderr"
        },
        {
          "output_type": "display_data",
          "data": {
            "image/png": "[encoded data removed]",
            "text/plain": [
              "<Figure size 1080x432 with 1 Axes>"
            ]
          },
          "metadata": {
            "tags": [],
            "needs_background": "light"
          }
        }
      ]
    },
    {
      "cell_type": "code",
      "metadata": {
        "id": "kCmUuNEgPQy-",
        "colab_type": "code",
        "colab": {
          "base_uri": "https://localhost:8080/",
          "height": 374
        },
        "outputId": "c7742ffe-2a43-449f-d88f-d36780de1282"
      },
      "source": [
        "fig, ax = plt.subplots(figsize=(15,6))\n",
        "df4.interpolate(method='linear').plot(ax=ax, marker='o')\n",
        "df4.plot(ax=ax, marker='o')\n",
        "ax.get_legend().remove()\n",
        "plt.show()"
      ],
      "execution_count": null,
      "outputs": [
        {
          "output_type": "display_data",
          "data": {
            "image/png": "[encoded data removed]",
            "text/plain": [
              "<Figure size 1080x432 with 1 Axes>"
            ]
          },
          "metadata": {
            "tags": [],
            "needs_background": "light"
          }
        }
      ]
    },
    {
      "cell_type": "code",
      "metadata": {
        "id": "uzctIkEOPx7J",
        "colab_type": "code",
        "colab": {
          "base_uri": "https://localhost:8080/",
          "height": 374
        },
        "outputId": "6490405c-a606-4daa-da90-88e6f7787d48"
      },
      "source": [
        "fig, ax = plt.subplots(figsize=(15,6))\n",
        "df4.interpolate(method='polynomial', order=2).plot(ax=ax, marker='o')\n",
        "df4.plot(ax=ax, marker='o')\n",
        "ax.get_legend().remove()\n",
        "plt.show()"
      ],
      "execution_count": null,
      "outputs": [
        {
          "output_type": "display_data",
          "data": {
            "image/png": "[encoded data removed]",
            "text/plain": [
              "<Figure size 1080x432 with 1 Axes>"
            ]
          },
          "metadata": {
            "tags": [],
            "needs_background": "light"
          }
        }
      ]
    },
    {
      "cell_type": "code",
      "metadata": {
        "id": "3D5QlB8jQBRQ",
        "colab_type": "code",
        "colab": {
          "base_uri": "https://localhost:8080/",
          "height": 374
        },
        "outputId": "db2c3336-7e9e-439a-ee59-9ad386d73c3b"
      },
      "source": [
        "fig, ax = plt.subplots(figsize=(15,6))\n",
        "df4.interpolate(method='nearest').plot(ax=ax, marker='o')\n",
        "df4.plot(ax=ax, marker='o')\n",
        "ax.get_legend().remove()\n",
        "plt.show()"
      ],
      "execution_count": null,
      "outputs": [
        {
          "output_type": "display_data",
          "data": {
            "image/png": "[encoded data removed]",
            "text/plain": [
              "<Figure size 1080x432 with 1 Axes>"
            ]
          },
          "metadata": {
            "tags": [],
            "needs_background": "light"
          }
        }
      ]
    }
  ]
}