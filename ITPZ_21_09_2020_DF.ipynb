{
  "nbformat": 4,
  "nbformat_minor": 0,
  "metadata": {
    "colab": {
      "name": "ITPZ_21_09_2020_DF.ipynb",
      "provenance": [],
      "collapsed_sections": [],
      "authorship_tag": "ABX9TyO4XW/p6hTxv9w7OqydBE6f",
      "include_colab_link": true
    },
    "kernelspec": {
      "name": "python3",
      "display_name": "Python 3"
    }
  },
  "cells": [
    {
      "cell_type": "markdown",
      "metadata": {
        "id": "view-in-github",
        "colab_type": "text"
      },
      "source": [
        "<a href=\"https://colab.research.google.com/github/EvgeniiSopov/plotlyRendering/blob/master/ITPZ_21_09_2020_DF.ipynb\" target=\"_parent\"><img src=\"https://colab.research.google.com/assets/colab-badge.svg\" alt=\"Open In Colab\"/></a>"
      ]
    },
    {
      "cell_type": "code",
      "metadata": {
        "id": "R72CCsM8Bnn5",
        "colab_type": "code",
        "colab": {}
      },
      "source": [
        "import numpy as np\n",
        "import pandas as pd\n",
        "import matplotlib.pyplot as plt"
      ],
      "execution_count": 1,
      "outputs": []
    },
    {
      "cell_type": "markdown",
      "metadata": {
        "id": "Vmp3K0yuJt4Y",
        "colab_type": "text"
      },
      "source": [
        "Создадим dataframe для примера. Стандартный способ создания - использовать объект словарь (dictionary)."
      ]
    },
    {
      "cell_type": "code",
      "metadata": {
        "id": "_KMuaSGlBuIg",
        "colab_type": "code",
        "colab": {}
      },
      "source": [
        "data = {\n",
        "    'name' : ['Xavier', 'Ann', 'Jana', 'Yi', 'Robin', 'Amai', 'Nori'],\n",
        "    'city' : ['Mexico City', 'Toronto', 'Prague', 'Shanghai', 'Manchester', 'Cairo', 'Osaka'],\n",
        "    'age' : [41, 28, 33, 34, 38, 31, 37],\n",
        "    'py-score' : [88.0, 79.0, 81.0, 80.0, 68.0, 61.0, 84.0]\n",
        "}\n",
        "row_labels= [101, 102, 103, 104, 105, 106, 107]"
      ],
      "execution_count": 2,
      "outputs": []
    },
    {
      "cell_type": "code",
      "metadata": {
        "id": "ixZnLwtxCyH3",
        "colab_type": "code",
        "colab": {
          "base_uri": "https://localhost:8080/",
          "height": 269
        },
        "outputId": "bc21486f-11e4-47c3-98a6-05524fc8c633"
      },
      "source": [
        "df1 = pd.DataFrame(data=data, index=row_labels)\n",
        "df1"
      ],
      "execution_count": 3,
      "outputs": [
        {
          "output_type": "execute_result",
          "data": {
            "text/html": [
              "<div>\n",
              "<style scoped>\n",
              "    .dataframe tbody tr th:only-of-type {\n",
              "        vertical-align: middle;\n",
              "    }\n",
              "\n",
              "    .dataframe tbody tr th {\n",
              "        vertical-align: top;\n",
              "    }\n",
              "\n",
              "    .dataframe thead th {\n",
              "        text-align: right;\n",
              "    }\n",
              "</style>\n",
              "<table border=\"1\" class=\"dataframe\">\n",
              "  <thead>\n",
              "    <tr style=\"text-align: right;\">\n",
              "      <th></th>\n",
              "      <th>name</th>\n",
              "      <th>city</th>\n",
              "      <th>age</th>\n",
              "      <th>py-score</th>\n",
              "    </tr>\n",
              "  </thead>\n",
              "  <tbody>\n",
              "    <tr>\n",
              "      <th>101</th>\n",
              "      <td>Xavier</td>\n",
              "      <td>Mexico City</td>\n",
              "      <td>41</td>\n",
              "      <td>88.0</td>\n",
              "    </tr>\n",
              "    <tr>\n",
              "      <th>102</th>\n",
              "      <td>Ann</td>\n",
              "      <td>Toronto</td>\n",
              "      <td>28</td>\n",
              "      <td>79.0</td>\n",
              "    </tr>\n",
              "    <tr>\n",
              "      <th>103</th>\n",
              "      <td>Jana</td>\n",
              "      <td>Prague</td>\n",
              "      <td>33</td>\n",
              "      <td>81.0</td>\n",
              "    </tr>\n",
              "    <tr>\n",
              "      <th>104</th>\n",
              "      <td>Yi</td>\n",
              "      <td>Shanghai</td>\n",
              "      <td>34</td>\n",
              "      <td>80.0</td>\n",
              "    </tr>\n",
              "    <tr>\n",
              "      <th>105</th>\n",
              "      <td>Robin</td>\n",
              "      <td>Manchester</td>\n",
              "      <td>38</td>\n",
              "      <td>68.0</td>\n",
              "    </tr>\n",
              "    <tr>\n",
              "      <th>106</th>\n",
              "      <td>Amai</td>\n",
              "      <td>Cairo</td>\n",
              "      <td>31</td>\n",
              "      <td>61.0</td>\n",
              "    </tr>\n",
              "    <tr>\n",
              "      <th>107</th>\n",
              "      <td>Nori</td>\n",
              "      <td>Osaka</td>\n",
              "      <td>37</td>\n",
              "      <td>84.0</td>\n",
              "    </tr>\n",
              "  </tbody>\n",
              "</table>\n",
              "</div>"
            ],
            "text/plain": [
              "       name         city  age  py-score\n",
              "101  Xavier  Mexico City   41      88.0\n",
              "102     Ann      Toronto   28      79.0\n",
              "103    Jana       Prague   33      81.0\n",
              "104      Yi     Shanghai   34      80.0\n",
              "105   Robin   Manchester   38      68.0\n",
              "106    Amai        Cairo   31      61.0\n",
              "107    Nori        Osaka   37      84.0"
            ]
          },
          "metadata": {
            "tags": []
          },
          "execution_count": 3
        }
      ]
    },
    {
      "cell_type": "code",
      "metadata": {
        "id": "UA--L2ZUL2g9",
        "colab_type": "code",
        "colab": {
          "base_uri": "https://localhost:8080/",
          "height": 300
        },
        "outputId": "cd77c26b-1c94-447a-bb68-6afc4786df6e"
      },
      "source": [
        "df2=df1[['city', 'age', 'py-score']].copy()\n",
        "df2.index=df1.name\n",
        "df2"
      ],
      "execution_count": 4,
      "outputs": [
        {
          "output_type": "execute_result",
          "data": {
            "text/html": [
              "<div>\n",
              "<style scoped>\n",
              "    .dataframe tbody tr th:only-of-type {\n",
              "        vertical-align: middle;\n",
              "    }\n",
              "\n",
              "    .dataframe tbody tr th {\n",
              "        vertical-align: top;\n",
              "    }\n",
              "\n",
              "    .dataframe thead th {\n",
              "        text-align: right;\n",
              "    }\n",
              "</style>\n",
              "<table border=\"1\" class=\"dataframe\">\n",
              "  <thead>\n",
              "    <tr style=\"text-align: right;\">\n",
              "      <th></th>\n",
              "      <th>city</th>\n",
              "      <th>age</th>\n",
              "      <th>py-score</th>\n",
              "    </tr>\n",
              "    <tr>\n",
              "      <th>name</th>\n",
              "      <th></th>\n",
              "      <th></th>\n",
              "      <th></th>\n",
              "    </tr>\n",
              "  </thead>\n",
              "  <tbody>\n",
              "    <tr>\n",
              "      <th>Xavier</th>\n",
              "      <td>Mexico City</td>\n",
              "      <td>41</td>\n",
              "      <td>88.0</td>\n",
              "    </tr>\n",
              "    <tr>\n",
              "      <th>Ann</th>\n",
              "      <td>Toronto</td>\n",
              "      <td>28</td>\n",
              "      <td>79.0</td>\n",
              "    </tr>\n",
              "    <tr>\n",
              "      <th>Jana</th>\n",
              "      <td>Prague</td>\n",
              "      <td>33</td>\n",
              "      <td>81.0</td>\n",
              "    </tr>\n",
              "    <tr>\n",
              "      <th>Yi</th>\n",
              "      <td>Shanghai</td>\n",
              "      <td>34</td>\n",
              "      <td>80.0</td>\n",
              "    </tr>\n",
              "    <tr>\n",
              "      <th>Robin</th>\n",
              "      <td>Manchester</td>\n",
              "      <td>38</td>\n",
              "      <td>68.0</td>\n",
              "    </tr>\n",
              "    <tr>\n",
              "      <th>Amai</th>\n",
              "      <td>Cairo</td>\n",
              "      <td>31</td>\n",
              "      <td>61.0</td>\n",
              "    </tr>\n",
              "    <tr>\n",
              "      <th>Nori</th>\n",
              "      <td>Osaka</td>\n",
              "      <td>37</td>\n",
              "      <td>84.0</td>\n",
              "    </tr>\n",
              "  </tbody>\n",
              "</table>\n",
              "</div>"
            ],
            "text/plain": [
              "               city  age  py-score\n",
              "name                              \n",
              "Xavier  Mexico City   41      88.0\n",
              "Ann         Toronto   28      79.0\n",
              "Jana         Prague   33      81.0\n",
              "Yi         Shanghai   34      80.0\n",
              "Robin    Manchester   38      68.0\n",
              "Amai          Cairo   31      61.0\n",
              "Nori          Osaka   37      84.0"
            ]
          },
          "metadata": {
            "tags": []
          },
          "execution_count": 4
        }
      ]
    },
    {
      "cell_type": "markdown",
      "metadata": {
        "id": "pfQh0lA1J7D4",
        "colab_type": "text"
      },
      "source": [
        "Доступ к элементам dataframe"
      ]
    },
    {
      "cell_type": "code",
      "metadata": {
        "id": "-YkGGDngD17u",
        "colab_type": "code",
        "colab": {
          "base_uri": "https://localhost:8080/",
          "height": 160
        },
        "outputId": "d9f975c5-0ef8-46e3-8b61-0da6a851b9e3"
      },
      "source": [
        "df1['city']"
      ],
      "execution_count": 5,
      "outputs": [
        {
          "output_type": "execute_result",
          "data": {
            "text/plain": [
              "101    Mexico City\n",
              "102        Toronto\n",
              "103         Prague\n",
              "104       Shanghai\n",
              "105     Manchester\n",
              "106          Cairo\n",
              "107          Osaka\n",
              "Name: city, dtype: object"
            ]
          },
          "metadata": {
            "tags": []
          },
          "execution_count": 5
        }
      ]
    },
    {
      "cell_type": "code",
      "metadata": {
        "id": "iT39uAT0D8AI",
        "colab_type": "code",
        "colab": {
          "base_uri": "https://localhost:8080/",
          "height": 160
        },
        "outputId": "f24f5f96-f7f6-46cc-da5c-33552799c19c"
      },
      "source": [
        "df1.city"
      ],
      "execution_count": 6,
      "outputs": [
        {
          "output_type": "execute_result",
          "data": {
            "text/plain": [
              "101    Mexico City\n",
              "102        Toronto\n",
              "103         Prague\n",
              "104       Shanghai\n",
              "105     Manchester\n",
              "106          Cairo\n",
              "107          Osaka\n",
              "Name: city, dtype: object"
            ]
          },
          "metadata": {
            "tags": []
          },
          "execution_count": 6
        }
      ]
    },
    {
      "cell_type": "code",
      "metadata": {
        "id": "EWoyLP6dENpF",
        "colab_type": "code",
        "colab": {
          "base_uri": "https://localhost:8080/",
          "height": 36
        },
        "outputId": "98e545d0-2f89-4d19-e7d8-4d21acca6b24"
      },
      "source": [
        "df1['city'][102]"
      ],
      "execution_count": 7,
      "outputs": [
        {
          "output_type": "execute_result",
          "data": {
            "application/vnd.google.colaboratory.intrinsic+json": {
              "type": "string"
            },
            "text/plain": [
              "'Toronto'"
            ]
          },
          "metadata": {
            "tags": []
          },
          "execution_count": 7
        }
      ]
    },
    {
      "cell_type": "markdown",
      "metadata": {
        "id": "CwbkP5sdEdQ2",
        "colab_type": "text"
      },
      "source": [
        "Функции .loc .iloc к любым элементам dataframe. Буква i говорит о том, что указывается индек (целое число), означающий позицию в dataframe.\n",
        "\n",
        "Функции .at .iat для доступа к конкретному значению."
      ]
    },
    {
      "cell_type": "code",
      "metadata": {
        "id": "X2PbMBN_EbRG",
        "colab_type": "code",
        "colab": {
          "base_uri": "https://localhost:8080/",
          "height": 106
        },
        "outputId": "356c4376-abd2-42e2-ffbe-65bbe672570f"
      },
      "source": [
        "df1.loc[103]"
      ],
      "execution_count": 8,
      "outputs": [
        {
          "output_type": "execute_result",
          "data": {
            "text/plain": [
              "name          Jana\n",
              "city        Prague\n",
              "age             33\n",
              "py-score        81\n",
              "Name: 103, dtype: object"
            ]
          },
          "metadata": {
            "tags": []
          },
          "execution_count": 8
        }
      ]
    },
    {
      "cell_type": "code",
      "metadata": {
        "id": "vbgs3EswE2vO",
        "colab_type": "code",
        "colab": {
          "base_uri": "https://localhost:8080/",
          "height": 106
        },
        "outputId": "4555c3f8-850b-4a72-c7a8-12c9be12a7c0"
      },
      "source": [
        "df1.iloc[0]"
      ],
      "execution_count": 9,
      "outputs": [
        {
          "output_type": "execute_result",
          "data": {
            "text/plain": [
              "name             Xavier\n",
              "city        Mexico City\n",
              "age                  41\n",
              "py-score             88\n",
              "Name: 101, dtype: object"
            ]
          },
          "metadata": {
            "tags": []
          },
          "execution_count": 9
        }
      ]
    },
    {
      "cell_type": "code",
      "metadata": {
        "id": "RgBe8a-fFG09",
        "colab_type": "code",
        "colab": {
          "base_uri": "https://localhost:8080/",
          "height": 160
        },
        "outputId": "ea39492d-cc74-4097-9f9c-dd1f8d4cebe2"
      },
      "source": [
        "df1.loc[:, 'city']"
      ],
      "execution_count": 10,
      "outputs": [
        {
          "output_type": "execute_result",
          "data": {
            "text/plain": [
              "101    Mexico City\n",
              "102        Toronto\n",
              "103         Prague\n",
              "104       Shanghai\n",
              "105     Manchester\n",
              "106          Cairo\n",
              "107          Osaka\n",
              "Name: city, dtype: object"
            ]
          },
          "metadata": {
            "tags": []
          },
          "execution_count": 10
        }
      ]
    },
    {
      "cell_type": "code",
      "metadata": {
        "id": "FEaf2hwMFT11",
        "colab_type": "code",
        "colab": {
          "base_uri": "https://localhost:8080/",
          "height": 160
        },
        "outputId": "d32ba8af-8a50-437c-8030-fbd56fc0b9b0"
      },
      "source": [
        "df1.iloc[:, 1]"
      ],
      "execution_count": 11,
      "outputs": [
        {
          "output_type": "execute_result",
          "data": {
            "text/plain": [
              "101    Mexico City\n",
              "102        Toronto\n",
              "103         Prague\n",
              "104       Shanghai\n",
              "105     Manchester\n",
              "106          Cairo\n",
              "107          Osaka\n",
              "Name: city, dtype: object"
            ]
          },
          "metadata": {
            "tags": []
          },
          "execution_count": 11
        }
      ]
    },
    {
      "cell_type": "code",
      "metadata": {
        "id": "HFZ6O7ztFgPs",
        "colab_type": "code",
        "colab": {
          "base_uri": "https://localhost:8080/",
          "height": 143
        },
        "outputId": "8b2788b5-9c67-4f77-9581-8461b4cdab68"
      },
      "source": [
        "df1.iloc[3:6, [0,1,3]]"
      ],
      "execution_count": 12,
      "outputs": [
        {
          "output_type": "execute_result",
          "data": {
            "text/html": [
              "<div>\n",
              "<style scoped>\n",
              "    .dataframe tbody tr th:only-of-type {\n",
              "        vertical-align: middle;\n",
              "    }\n",
              "\n",
              "    .dataframe tbody tr th {\n",
              "        vertical-align: top;\n",
              "    }\n",
              "\n",
              "    .dataframe thead th {\n",
              "        text-align: right;\n",
              "    }\n",
              "</style>\n",
              "<table border=\"1\" class=\"dataframe\">\n",
              "  <thead>\n",
              "    <tr style=\"text-align: right;\">\n",
              "      <th></th>\n",
              "      <th>name</th>\n",
              "      <th>city</th>\n",
              "      <th>py-score</th>\n",
              "    </tr>\n",
              "  </thead>\n",
              "  <tbody>\n",
              "    <tr>\n",
              "      <th>104</th>\n",
              "      <td>Yi</td>\n",
              "      <td>Shanghai</td>\n",
              "      <td>80.0</td>\n",
              "    </tr>\n",
              "    <tr>\n",
              "      <th>105</th>\n",
              "      <td>Robin</td>\n",
              "      <td>Manchester</td>\n",
              "      <td>68.0</td>\n",
              "    </tr>\n",
              "    <tr>\n",
              "      <th>106</th>\n",
              "      <td>Amai</td>\n",
              "      <td>Cairo</td>\n",
              "      <td>61.0</td>\n",
              "    </tr>\n",
              "  </tbody>\n",
              "</table>\n",
              "</div>"
            ],
            "text/plain": [
              "      name        city  py-score\n",
              "104     Yi    Shanghai      80.0\n",
              "105  Robin  Manchester      68.0\n",
              "106   Amai       Cairo      61.0"
            ]
          },
          "metadata": {
            "tags": []
          },
          "execution_count": 12
        }
      ]
    },
    {
      "cell_type": "code",
      "metadata": {
        "id": "GzMqiSb3GE_8",
        "colab_type": "code",
        "colab": {
          "base_uri": "https://localhost:8080/",
          "height": 36
        },
        "outputId": "622138ad-1dd7-4dd3-9051-c82c022638f2"
      },
      "source": [
        "df1.at[103,'name']"
      ],
      "execution_count": 13,
      "outputs": [
        {
          "output_type": "execute_result",
          "data": {
            "application/vnd.google.colaboratory.intrinsic+json": {
              "type": "string"
            },
            "text/plain": [
              "'Jana'"
            ]
          },
          "metadata": {
            "tags": []
          },
          "execution_count": 13
        }
      ]
    },
    {
      "cell_type": "code",
      "metadata": {
        "id": "1iSXTWqmMThH",
        "colab_type": "code",
        "colab": {
          "base_uri": "https://localhost:8080/",
          "height": 178
        },
        "outputId": "1a8ff808-5a08-4885-d532-fc14c6e36216"
      },
      "source": [
        "df2['city']"
      ],
      "execution_count": 14,
      "outputs": [
        {
          "output_type": "execute_result",
          "data": {
            "text/plain": [
              "name\n",
              "Xavier    Mexico City\n",
              "Ann           Toronto\n",
              "Jana           Prague\n",
              "Yi           Shanghai\n",
              "Robin      Manchester\n",
              "Amai            Cairo\n",
              "Nori            Osaka\n",
              "Name: city, dtype: object"
            ]
          },
          "metadata": {
            "tags": []
          },
          "execution_count": 14
        }
      ]
    },
    {
      "cell_type": "code",
      "metadata": {
        "id": "ynI3q2n6MWMy",
        "colab_type": "code",
        "colab": {
          "base_uri": "https://localhost:8080/",
          "height": 88
        },
        "outputId": "2aff7e38-c00d-4e72-d759-d6230e65a5d8"
      },
      "source": [
        "df2.loc['Jana']"
      ],
      "execution_count": 15,
      "outputs": [
        {
          "output_type": "execute_result",
          "data": {
            "text/plain": [
              "city        Prague\n",
              "age             33\n",
              "py-score        81\n",
              "Name: Jana, dtype: object"
            ]
          },
          "metadata": {
            "tags": []
          },
          "execution_count": 15
        }
      ]
    },
    {
      "cell_type": "markdown",
      "metadata": {
        "id": "rNl2QcHLLO7B",
        "colab_type": "text"
      },
      "source": [
        "Операция транспонирования. Аналог разворота осей в ХД."
      ]
    },
    {
      "cell_type": "code",
      "metadata": {
        "id": "irkHfqyEGdNN",
        "colab_type": "code",
        "colab": {
          "base_uri": "https://localhost:8080/",
          "height": 175
        },
        "outputId": "f04adf1c-afdf-4f06-f86e-0396a5919eb9"
      },
      "source": [
        "df1.T"
      ],
      "execution_count": 16,
      "outputs": [
        {
          "output_type": "execute_result",
          "data": {
            "text/html": [
              "<div>\n",
              "<style scoped>\n",
              "    .dataframe tbody tr th:only-of-type {\n",
              "        vertical-align: middle;\n",
              "    }\n",
              "\n",
              "    .dataframe tbody tr th {\n",
              "        vertical-align: top;\n",
              "    }\n",
              "\n",
              "    .dataframe thead th {\n",
              "        text-align: right;\n",
              "    }\n",
              "</style>\n",
              "<table border=\"1\" class=\"dataframe\">\n",
              "  <thead>\n",
              "    <tr style=\"text-align: right;\">\n",
              "      <th></th>\n",
              "      <th>101</th>\n",
              "      <th>102</th>\n",
              "      <th>103</th>\n",
              "      <th>104</th>\n",
              "      <th>105</th>\n",
              "      <th>106</th>\n",
              "      <th>107</th>\n",
              "    </tr>\n",
              "  </thead>\n",
              "  <tbody>\n",
              "    <tr>\n",
              "      <th>name</th>\n",
              "      <td>Xavier</td>\n",
              "      <td>Ann</td>\n",
              "      <td>Jana</td>\n",
              "      <td>Yi</td>\n",
              "      <td>Robin</td>\n",
              "      <td>Amai</td>\n",
              "      <td>Nori</td>\n",
              "    </tr>\n",
              "    <tr>\n",
              "      <th>city</th>\n",
              "      <td>Mexico City</td>\n",
              "      <td>Toronto</td>\n",
              "      <td>Prague</td>\n",
              "      <td>Shanghai</td>\n",
              "      <td>Manchester</td>\n",
              "      <td>Cairo</td>\n",
              "      <td>Osaka</td>\n",
              "    </tr>\n",
              "    <tr>\n",
              "      <th>age</th>\n",
              "      <td>41</td>\n",
              "      <td>28</td>\n",
              "      <td>33</td>\n",
              "      <td>34</td>\n",
              "      <td>38</td>\n",
              "      <td>31</td>\n",
              "      <td>37</td>\n",
              "    </tr>\n",
              "    <tr>\n",
              "      <th>py-score</th>\n",
              "      <td>88</td>\n",
              "      <td>79</td>\n",
              "      <td>81</td>\n",
              "      <td>80</td>\n",
              "      <td>68</td>\n",
              "      <td>61</td>\n",
              "      <td>84</td>\n",
              "    </tr>\n",
              "  </tbody>\n",
              "</table>\n",
              "</div>"
            ],
            "text/plain": [
              "                  101      102     103       104         105    106    107\n",
              "name           Xavier      Ann    Jana        Yi       Robin   Amai   Nori\n",
              "city      Mexico City  Toronto  Prague  Shanghai  Manchester  Cairo  Osaka\n",
              "age                41       28      33        34          38     31     37\n",
              "py-score           88       79      81        80          68     61     84"
            ]
          },
          "metadata": {
            "tags": []
          },
          "execution_count": 16
        }
      ]
    },
    {
      "cell_type": "code",
      "metadata": {
        "id": "BK9pP2NSMdEl",
        "colab_type": "code",
        "colab": {
          "base_uri": "https://localhost:8080/",
          "height": 143
        },
        "outputId": "6ca13bbc-e5cf-460b-da81-56bd5410c9d3"
      },
      "source": [
        "df2.T"
      ],
      "execution_count": 17,
      "outputs": [
        {
          "output_type": "execute_result",
          "data": {
            "text/html": [
              "<div>\n",
              "<style scoped>\n",
              "    .dataframe tbody tr th:only-of-type {\n",
              "        vertical-align: middle;\n",
              "    }\n",
              "\n",
              "    .dataframe tbody tr th {\n",
              "        vertical-align: top;\n",
              "    }\n",
              "\n",
              "    .dataframe thead th {\n",
              "        text-align: right;\n",
              "    }\n",
              "</style>\n",
              "<table border=\"1\" class=\"dataframe\">\n",
              "  <thead>\n",
              "    <tr style=\"text-align: right;\">\n",
              "      <th>name</th>\n",
              "      <th>Xavier</th>\n",
              "      <th>Ann</th>\n",
              "      <th>Jana</th>\n",
              "      <th>Yi</th>\n",
              "      <th>Robin</th>\n",
              "      <th>Amai</th>\n",
              "      <th>Nori</th>\n",
              "    </tr>\n",
              "  </thead>\n",
              "  <tbody>\n",
              "    <tr>\n",
              "      <th>city</th>\n",
              "      <td>Mexico City</td>\n",
              "      <td>Toronto</td>\n",
              "      <td>Prague</td>\n",
              "      <td>Shanghai</td>\n",
              "      <td>Manchester</td>\n",
              "      <td>Cairo</td>\n",
              "      <td>Osaka</td>\n",
              "    </tr>\n",
              "    <tr>\n",
              "      <th>age</th>\n",
              "      <td>41</td>\n",
              "      <td>28</td>\n",
              "      <td>33</td>\n",
              "      <td>34</td>\n",
              "      <td>38</td>\n",
              "      <td>31</td>\n",
              "      <td>37</td>\n",
              "    </tr>\n",
              "    <tr>\n",
              "      <th>py-score</th>\n",
              "      <td>88</td>\n",
              "      <td>79</td>\n",
              "      <td>81</td>\n",
              "      <td>80</td>\n",
              "      <td>68</td>\n",
              "      <td>61</td>\n",
              "      <td>84</td>\n",
              "    </tr>\n",
              "  </tbody>\n",
              "</table>\n",
              "</div>"
            ],
            "text/plain": [
              "name           Xavier      Ann    Jana        Yi       Robin   Amai   Nori\n",
              "city      Mexico City  Toronto  Prague  Shanghai  Manchester  Cairo  Osaka\n",
              "age                41       28      33        34          38     31     37\n",
              "py-score           88       79      81        80          68     61     84"
            ]
          },
          "metadata": {
            "tags": []
          },
          "execution_count": 17
        }
      ]
    },
    {
      "cell_type": "markdown",
      "metadata": {
        "id": "9XN4pdQ9LJh5",
        "colab_type": "text"
      },
      "source": [
        "Доступ к полям и свойствам."
      ]
    },
    {
      "cell_type": "code",
      "metadata": {
        "id": "WRf0YRVBGNQF",
        "colab_type": "code",
        "colab": {
          "base_uri": "https://localhost:8080/",
          "height": 35
        },
        "outputId": "6c6f31fd-c488-4fbf-e2c3-6a8c52a4ae8c"
      },
      "source": [
        "df1.index"
      ],
      "execution_count": 18,
      "outputs": [
        {
          "output_type": "execute_result",
          "data": {
            "text/plain": [
              "Int64Index([101, 102, 103, 104, 105, 106, 107], dtype='int64')"
            ]
          },
          "metadata": {
            "tags": []
          },
          "execution_count": 18
        }
      ]
    },
    {
      "cell_type": "code",
      "metadata": {
        "id": "5XUHAnq6GWgF",
        "colab_type": "code",
        "colab": {
          "base_uri": "https://localhost:8080/",
          "height": 35
        },
        "outputId": "c4cd90d7-c1fe-42fb-8e88-6a1e211c553d"
      },
      "source": [
        "df1.columns"
      ],
      "execution_count": 19,
      "outputs": [
        {
          "output_type": "execute_result",
          "data": {
            "text/plain": [
              "Index(['name', 'city', 'age', 'py-score'], dtype='object')"
            ]
          },
          "metadata": {
            "tags": []
          },
          "execution_count": 19
        }
      ]
    },
    {
      "cell_type": "code",
      "metadata": {
        "id": "PPxEg26VGxac",
        "colab_type": "code",
        "colab": {
          "base_uri": "https://localhost:8080/",
          "height": 35
        },
        "outputId": "6ef15668-0480-41c8-c21b-6f9d4bfbb9b1"
      },
      "source": [
        "df1.ndim"
      ],
      "execution_count": 20,
      "outputs": [
        {
          "output_type": "execute_result",
          "data": {
            "text/plain": [
              "2"
            ]
          },
          "metadata": {
            "tags": []
          },
          "execution_count": 20
        }
      ]
    },
    {
      "cell_type": "code",
      "metadata": {
        "id": "Y8MB7rFQG2bj",
        "colab_type": "code",
        "colab": {
          "base_uri": "https://localhost:8080/",
          "height": 35
        },
        "outputId": "682bb64e-005f-4bd1-fd76-f4c623c43f31"
      },
      "source": [
        "df1.shape"
      ],
      "execution_count": 21,
      "outputs": [
        {
          "output_type": "execute_result",
          "data": {
            "text/plain": [
              "(7, 4)"
            ]
          },
          "metadata": {
            "tags": []
          },
          "execution_count": 21
        }
      ]
    },
    {
      "cell_type": "code",
      "metadata": {
        "id": "Rm7HZuVTG9V7",
        "colab_type": "code",
        "colab": {
          "base_uri": "https://localhost:8080/",
          "height": 35
        },
        "outputId": "1cd14c88-d080-48fd-8468-9c911002796c"
      },
      "source": [
        "df1.size"
      ],
      "execution_count": 22,
      "outputs": [
        {
          "output_type": "execute_result",
          "data": {
            "text/plain": [
              "28"
            ]
          },
          "metadata": {
            "tags": []
          },
          "execution_count": 22
        }
      ]
    },
    {
      "cell_type": "code",
      "metadata": {
        "id": "_PPN2E0hHCKz",
        "colab_type": "code",
        "colab": {
          "base_uri": "https://localhost:8080/",
          "height": 124
        },
        "outputId": "c78e0e31-6232-4ec1-e8b1-1251b796ab76"
      },
      "source": [
        "df1.memory_usage()"
      ],
      "execution_count": 23,
      "outputs": [
        {
          "output_type": "execute_result",
          "data": {
            "text/plain": [
              "Index       376\n",
              "name         56\n",
              "city         56\n",
              "age          56\n",
              "py-score     56\n",
              "dtype: int64"
            ]
          },
          "metadata": {
            "tags": []
          },
          "execution_count": 23
        }
      ]
    },
    {
      "cell_type": "code",
      "metadata": {
        "id": "o6AoZX7bHNsu",
        "colab_type": "code",
        "colab": {
          "base_uri": "https://localhost:8080/",
          "height": 214
        },
        "outputId": "db47d479-e7cd-499f-ae1f-308ef53dcc0b"
      },
      "source": [
        "df1.info()"
      ],
      "execution_count": 24,
      "outputs": [
        {
          "output_type": "stream",
          "text": [
            "<class 'pandas.core.frame.DataFrame'>\n",
            "Int64Index: 7 entries, 101 to 107\n",
            "Data columns (total 4 columns):\n",
            " #   Column    Non-Null Count  Dtype  \n",
            "---  ------    --------------  -----  \n",
            " 0   name      7 non-null      object \n",
            " 1   city      7 non-null      object \n",
            " 2   age       7 non-null      int64  \n",
            " 3   py-score  7 non-null      float64\n",
            "dtypes: float64(1), int64(1), object(2)\n",
            "memory usage: 600.0+ bytes\n"
          ],
          "name": "stdout"
        }
      ]
    },
    {
      "cell_type": "markdown",
      "metadata": {
        "id": "MS-ptZ25LcTR",
        "colab_type": "text"
      },
      "source": [
        "Добавление и удаление элементов."
      ]
    },
    {
      "cell_type": "code",
      "metadata": {
        "id": "tiVZksxcHhV9",
        "colab_type": "code",
        "colab": {
          "base_uri": "https://localhost:8080/",
          "height": 269
        },
        "outputId": "609b6c37-4094-4c28-d00b-a66db1db500a"
      },
      "source": [
        "df1['c++ score']=[71.0, 15.0, 88.0, 56.0, np.nan, np.nan, np.nan]\n",
        "df1"
      ],
      "execution_count": 25,
      "outputs": [
        {
          "output_type": "execute_result",
          "data": {
            "text/html": [
              "<div>\n",
              "<style scoped>\n",
              "    .dataframe tbody tr th:only-of-type {\n",
              "        vertical-align: middle;\n",
              "    }\n",
              "\n",
              "    .dataframe tbody tr th {\n",
              "        vertical-align: top;\n",
              "    }\n",
              "\n",
              "    .dataframe thead th {\n",
              "        text-align: right;\n",
              "    }\n",
              "</style>\n",
              "<table border=\"1\" class=\"dataframe\">\n",
              "  <thead>\n",
              "    <tr style=\"text-align: right;\">\n",
              "      <th></th>\n",
              "      <th>name</th>\n",
              "      <th>city</th>\n",
              "      <th>age</th>\n",
              "      <th>py-score</th>\n",
              "      <th>c++ score</th>\n",
              "    </tr>\n",
              "  </thead>\n",
              "  <tbody>\n",
              "    <tr>\n",
              "      <th>101</th>\n",
              "      <td>Xavier</td>\n",
              "      <td>Mexico City</td>\n",
              "      <td>41</td>\n",
              "      <td>88.0</td>\n",
              "      <td>71.0</td>\n",
              "    </tr>\n",
              "    <tr>\n",
              "      <th>102</th>\n",
              "      <td>Ann</td>\n",
              "      <td>Toronto</td>\n",
              "      <td>28</td>\n",
              "      <td>79.0</td>\n",
              "      <td>15.0</td>\n",
              "    </tr>\n",
              "    <tr>\n",
              "      <th>103</th>\n",
              "      <td>Jana</td>\n",
              "      <td>Prague</td>\n",
              "      <td>33</td>\n",
              "      <td>81.0</td>\n",
              "      <td>88.0</td>\n",
              "    </tr>\n",
              "    <tr>\n",
              "      <th>104</th>\n",
              "      <td>Yi</td>\n",
              "      <td>Shanghai</td>\n",
              "      <td>34</td>\n",
              "      <td>80.0</td>\n",
              "      <td>56.0</td>\n",
              "    </tr>\n",
              "    <tr>\n",
              "      <th>105</th>\n",
              "      <td>Robin</td>\n",
              "      <td>Manchester</td>\n",
              "      <td>38</td>\n",
              "      <td>68.0</td>\n",
              "      <td>NaN</td>\n",
              "    </tr>\n",
              "    <tr>\n",
              "      <th>106</th>\n",
              "      <td>Amai</td>\n",
              "      <td>Cairo</td>\n",
              "      <td>31</td>\n",
              "      <td>61.0</td>\n",
              "      <td>NaN</td>\n",
              "    </tr>\n",
              "    <tr>\n",
              "      <th>107</th>\n",
              "      <td>Nori</td>\n",
              "      <td>Osaka</td>\n",
              "      <td>37</td>\n",
              "      <td>84.0</td>\n",
              "      <td>NaN</td>\n",
              "    </tr>\n",
              "  </tbody>\n",
              "</table>\n",
              "</div>"
            ],
            "text/plain": [
              "       name         city  age  py-score  c++ score\n",
              "101  Xavier  Mexico City   41      88.0       71.0\n",
              "102     Ann      Toronto   28      79.0       15.0\n",
              "103    Jana       Prague   33      81.0       88.0\n",
              "104      Yi     Shanghai   34      80.0       56.0\n",
              "105   Robin   Manchester   38      68.0        NaN\n",
              "106    Amai        Cairo   31      61.0        NaN\n",
              "107    Nori        Osaka   37      84.0        NaN"
            ]
          },
          "metadata": {
            "tags": []
          },
          "execution_count": 25
        }
      ]
    },
    {
      "cell_type": "code",
      "metadata": {
        "id": "2GwXCk6nIYIU",
        "colab_type": "code",
        "colab": {
          "base_uri": "https://localhost:8080/",
          "height": 269
        },
        "outputId": "8fe36e5a-8b03-4482-8a8a-7d2f01fac2ad"
      },
      "source": [
        "df1=df1.drop(columns=['c++ score'])\n",
        "df1"
      ],
      "execution_count": 26,
      "outputs": [
        {
          "output_type": "execute_result",
          "data": {
            "text/html": [
              "<div>\n",
              "<style scoped>\n",
              "    .dataframe tbody tr th:only-of-type {\n",
              "        vertical-align: middle;\n",
              "    }\n",
              "\n",
              "    .dataframe tbody tr th {\n",
              "        vertical-align: top;\n",
              "    }\n",
              "\n",
              "    .dataframe thead th {\n",
              "        text-align: right;\n",
              "    }\n",
              "</style>\n",
              "<table border=\"1\" class=\"dataframe\">\n",
              "  <thead>\n",
              "    <tr style=\"text-align: right;\">\n",
              "      <th></th>\n",
              "      <th>name</th>\n",
              "      <th>city</th>\n",
              "      <th>age</th>\n",
              "      <th>py-score</th>\n",
              "    </tr>\n",
              "  </thead>\n",
              "  <tbody>\n",
              "    <tr>\n",
              "      <th>101</th>\n",
              "      <td>Xavier</td>\n",
              "      <td>Mexico City</td>\n",
              "      <td>41</td>\n",
              "      <td>88.0</td>\n",
              "    </tr>\n",
              "    <tr>\n",
              "      <th>102</th>\n",
              "      <td>Ann</td>\n",
              "      <td>Toronto</td>\n",
              "      <td>28</td>\n",
              "      <td>79.0</td>\n",
              "    </tr>\n",
              "    <tr>\n",
              "      <th>103</th>\n",
              "      <td>Jana</td>\n",
              "      <td>Prague</td>\n",
              "      <td>33</td>\n",
              "      <td>81.0</td>\n",
              "    </tr>\n",
              "    <tr>\n",
              "      <th>104</th>\n",
              "      <td>Yi</td>\n",
              "      <td>Shanghai</td>\n",
              "      <td>34</td>\n",
              "      <td>80.0</td>\n",
              "    </tr>\n",
              "    <tr>\n",
              "      <th>105</th>\n",
              "      <td>Robin</td>\n",
              "      <td>Manchester</td>\n",
              "      <td>38</td>\n",
              "      <td>68.0</td>\n",
              "    </tr>\n",
              "    <tr>\n",
              "      <th>106</th>\n",
              "      <td>Amai</td>\n",
              "      <td>Cairo</td>\n",
              "      <td>31</td>\n",
              "      <td>61.0</td>\n",
              "    </tr>\n",
              "    <tr>\n",
              "      <th>107</th>\n",
              "      <td>Nori</td>\n",
              "      <td>Osaka</td>\n",
              "      <td>37</td>\n",
              "      <td>84.0</td>\n",
              "    </tr>\n",
              "  </tbody>\n",
              "</table>\n",
              "</div>"
            ],
            "text/plain": [
              "       name         city  age  py-score\n",
              "101  Xavier  Mexico City   41      88.0\n",
              "102     Ann      Toronto   28      79.0\n",
              "103    Jana       Prague   33      81.0\n",
              "104      Yi     Shanghai   34      80.0\n",
              "105   Robin   Manchester   38      68.0\n",
              "106    Amai        Cairo   31      61.0\n",
              "107    Nori        Osaka   37      84.0"
            ]
          },
          "metadata": {
            "tags": []
          },
          "execution_count": 26
        }
      ]
    },
    {
      "cell_type": "code",
      "metadata": {
        "id": "I-nj5R3fItzr",
        "colab_type": "code",
        "colab": {
          "base_uri": "https://localhost:8080/",
          "height": 300
        },
        "outputId": "1dc8011e-911b-4810-c154-20568b166e51"
      },
      "source": [
        "john=pd.Series(data=['John', 'Boston', 34, 78], index=df1.columns, name=17)\n",
        "df1=df1.append(john)\n",
        "df1"
      ],
      "execution_count": 27,
      "outputs": [
        {
          "output_type": "execute_result",
          "data": {
            "text/html": [
              "<div>\n",
              "<style scoped>\n",
              "    .dataframe tbody tr th:only-of-type {\n",
              "        vertical-align: middle;\n",
              "    }\n",
              "\n",
              "    .dataframe tbody tr th {\n",
              "        vertical-align: top;\n",
              "    }\n",
              "\n",
              "    .dataframe thead th {\n",
              "        text-align: right;\n",
              "    }\n",
              "</style>\n",
              "<table border=\"1\" class=\"dataframe\">\n",
              "  <thead>\n",
              "    <tr style=\"text-align: right;\">\n",
              "      <th></th>\n",
              "      <th>name</th>\n",
              "      <th>city</th>\n",
              "      <th>age</th>\n",
              "      <th>py-score</th>\n",
              "    </tr>\n",
              "  </thead>\n",
              "  <tbody>\n",
              "    <tr>\n",
              "      <th>101</th>\n",
              "      <td>Xavier</td>\n",
              "      <td>Mexico City</td>\n",
              "      <td>41</td>\n",
              "      <td>88.0</td>\n",
              "    </tr>\n",
              "    <tr>\n",
              "      <th>102</th>\n",
              "      <td>Ann</td>\n",
              "      <td>Toronto</td>\n",
              "      <td>28</td>\n",
              "      <td>79.0</td>\n",
              "    </tr>\n",
              "    <tr>\n",
              "      <th>103</th>\n",
              "      <td>Jana</td>\n",
              "      <td>Prague</td>\n",
              "      <td>33</td>\n",
              "      <td>81.0</td>\n",
              "    </tr>\n",
              "    <tr>\n",
              "      <th>104</th>\n",
              "      <td>Yi</td>\n",
              "      <td>Shanghai</td>\n",
              "      <td>34</td>\n",
              "      <td>80.0</td>\n",
              "    </tr>\n",
              "    <tr>\n",
              "      <th>105</th>\n",
              "      <td>Robin</td>\n",
              "      <td>Manchester</td>\n",
              "      <td>38</td>\n",
              "      <td>68.0</td>\n",
              "    </tr>\n",
              "    <tr>\n",
              "      <th>106</th>\n",
              "      <td>Amai</td>\n",
              "      <td>Cairo</td>\n",
              "      <td>31</td>\n",
              "      <td>61.0</td>\n",
              "    </tr>\n",
              "    <tr>\n",
              "      <th>107</th>\n",
              "      <td>Nori</td>\n",
              "      <td>Osaka</td>\n",
              "      <td>37</td>\n",
              "      <td>84.0</td>\n",
              "    </tr>\n",
              "    <tr>\n",
              "      <th>17</th>\n",
              "      <td>John</td>\n",
              "      <td>Boston</td>\n",
              "      <td>34</td>\n",
              "      <td>78.0</td>\n",
              "    </tr>\n",
              "  </tbody>\n",
              "</table>\n",
              "</div>"
            ],
            "text/plain": [
              "       name         city  age  py-score\n",
              "101  Xavier  Mexico City   41      88.0\n",
              "102     Ann      Toronto   28      79.0\n",
              "103    Jana       Prague   33      81.0\n",
              "104      Yi     Shanghai   34      80.0\n",
              "105   Robin   Manchester   38      68.0\n",
              "106    Amai        Cairo   31      61.0\n",
              "107    Nori        Osaka   37      84.0\n",
              "17     John       Boston   34      78.0"
            ]
          },
          "metadata": {
            "tags": []
          },
          "execution_count": 27
        }
      ]
    },
    {
      "cell_type": "code",
      "metadata": {
        "id": "778AH39MJOIM",
        "colab_type": "code",
        "colab": {
          "base_uri": "https://localhost:8080/",
          "height": 269
        },
        "outputId": "2a9ad1d1-5e78-4c0c-9961-fb42852fabbe"
      },
      "source": [
        "df1=df1.drop(labels=[17])\n",
        "df1"
      ],
      "execution_count": 28,
      "outputs": [
        {
          "output_type": "execute_result",
          "data": {
            "text/html": [
              "<div>\n",
              "<style scoped>\n",
              "    .dataframe tbody tr th:only-of-type {\n",
              "        vertical-align: middle;\n",
              "    }\n",
              "\n",
              "    .dataframe tbody tr th {\n",
              "        vertical-align: top;\n",
              "    }\n",
              "\n",
              "    .dataframe thead th {\n",
              "        text-align: right;\n",
              "    }\n",
              "</style>\n",
              "<table border=\"1\" class=\"dataframe\">\n",
              "  <thead>\n",
              "    <tr style=\"text-align: right;\">\n",
              "      <th></th>\n",
              "      <th>name</th>\n",
              "      <th>city</th>\n",
              "      <th>age</th>\n",
              "      <th>py-score</th>\n",
              "    </tr>\n",
              "  </thead>\n",
              "  <tbody>\n",
              "    <tr>\n",
              "      <th>101</th>\n",
              "      <td>Xavier</td>\n",
              "      <td>Mexico City</td>\n",
              "      <td>41</td>\n",
              "      <td>88.0</td>\n",
              "    </tr>\n",
              "    <tr>\n",
              "      <th>102</th>\n",
              "      <td>Ann</td>\n",
              "      <td>Toronto</td>\n",
              "      <td>28</td>\n",
              "      <td>79.0</td>\n",
              "    </tr>\n",
              "    <tr>\n",
              "      <th>103</th>\n",
              "      <td>Jana</td>\n",
              "      <td>Prague</td>\n",
              "      <td>33</td>\n",
              "      <td>81.0</td>\n",
              "    </tr>\n",
              "    <tr>\n",
              "      <th>104</th>\n",
              "      <td>Yi</td>\n",
              "      <td>Shanghai</td>\n",
              "      <td>34</td>\n",
              "      <td>80.0</td>\n",
              "    </tr>\n",
              "    <tr>\n",
              "      <th>105</th>\n",
              "      <td>Robin</td>\n",
              "      <td>Manchester</td>\n",
              "      <td>38</td>\n",
              "      <td>68.0</td>\n",
              "    </tr>\n",
              "    <tr>\n",
              "      <th>106</th>\n",
              "      <td>Amai</td>\n",
              "      <td>Cairo</td>\n",
              "      <td>31</td>\n",
              "      <td>61.0</td>\n",
              "    </tr>\n",
              "    <tr>\n",
              "      <th>107</th>\n",
              "      <td>Nori</td>\n",
              "      <td>Osaka</td>\n",
              "      <td>37</td>\n",
              "      <td>84.0</td>\n",
              "    </tr>\n",
              "  </tbody>\n",
              "</table>\n",
              "</div>"
            ],
            "text/plain": [
              "       name         city  age  py-score\n",
              "101  Xavier  Mexico City   41      88.0\n",
              "102     Ann      Toronto   28      79.0\n",
              "103    Jana       Prague   33      81.0\n",
              "104      Yi     Shanghai   34      80.0\n",
              "105   Robin   Manchester   38      68.0\n",
              "106    Amai        Cairo   31      61.0\n",
              "107    Nori        Osaka   37      84.0"
            ]
          },
          "metadata": {
            "tags": []
          },
          "execution_count": 28
        }
      ]
    },
    {
      "cell_type": "markdown",
      "metadata": {
        "id": "fv5n_2nZLgWI",
        "colab_type": "text"
      },
      "source": [
        "Сортировка."
      ]
    },
    {
      "cell_type": "code",
      "metadata": {
        "id": "bwzENEkTJbA7",
        "colab_type": "code",
        "colab": {
          "base_uri": "https://localhost:8080/",
          "height": 269
        },
        "outputId": "475c803b-3fae-472f-fb7b-6d2f1faa313f"
      },
      "source": [
        "df1.sort_values(by='py-score', ascending=False)"
      ],
      "execution_count": 29,
      "outputs": [
        {
          "output_type": "execute_result",
          "data": {
            "text/html": [
              "<div>\n",
              "<style scoped>\n",
              "    .dataframe tbody tr th:only-of-type {\n",
              "        vertical-align: middle;\n",
              "    }\n",
              "\n",
              "    .dataframe tbody tr th {\n",
              "        vertical-align: top;\n",
              "    }\n",
              "\n",
              "    .dataframe thead th {\n",
              "        text-align: right;\n",
              "    }\n",
              "</style>\n",
              "<table border=\"1\" class=\"dataframe\">\n",
              "  <thead>\n",
              "    <tr style=\"text-align: right;\">\n",
              "      <th></th>\n",
              "      <th>name</th>\n",
              "      <th>city</th>\n",
              "      <th>age</th>\n",
              "      <th>py-score</th>\n",
              "    </tr>\n",
              "  </thead>\n",
              "  <tbody>\n",
              "    <tr>\n",
              "      <th>101</th>\n",
              "      <td>Xavier</td>\n",
              "      <td>Mexico City</td>\n",
              "      <td>41</td>\n",
              "      <td>88.0</td>\n",
              "    </tr>\n",
              "    <tr>\n",
              "      <th>107</th>\n",
              "      <td>Nori</td>\n",
              "      <td>Osaka</td>\n",
              "      <td>37</td>\n",
              "      <td>84.0</td>\n",
              "    </tr>\n",
              "    <tr>\n",
              "      <th>103</th>\n",
              "      <td>Jana</td>\n",
              "      <td>Prague</td>\n",
              "      <td>33</td>\n",
              "      <td>81.0</td>\n",
              "    </tr>\n",
              "    <tr>\n",
              "      <th>104</th>\n",
              "      <td>Yi</td>\n",
              "      <td>Shanghai</td>\n",
              "      <td>34</td>\n",
              "      <td>80.0</td>\n",
              "    </tr>\n",
              "    <tr>\n",
              "      <th>102</th>\n",
              "      <td>Ann</td>\n",
              "      <td>Toronto</td>\n",
              "      <td>28</td>\n",
              "      <td>79.0</td>\n",
              "    </tr>\n",
              "    <tr>\n",
              "      <th>105</th>\n",
              "      <td>Robin</td>\n",
              "      <td>Manchester</td>\n",
              "      <td>38</td>\n",
              "      <td>68.0</td>\n",
              "    </tr>\n",
              "    <tr>\n",
              "      <th>106</th>\n",
              "      <td>Amai</td>\n",
              "      <td>Cairo</td>\n",
              "      <td>31</td>\n",
              "      <td>61.0</td>\n",
              "    </tr>\n",
              "  </tbody>\n",
              "</table>\n",
              "</div>"
            ],
            "text/plain": [
              "       name         city  age  py-score\n",
              "101  Xavier  Mexico City   41      88.0\n",
              "107    Nori        Osaka   37      84.0\n",
              "103    Jana       Prague   33      81.0\n",
              "104      Yi     Shanghai   34      80.0\n",
              "102     Ann      Toronto   28      79.0\n",
              "105   Robin   Manchester   38      68.0\n",
              "106    Amai        Cairo   31      61.0"
            ]
          },
          "metadata": {
            "tags": []
          },
          "execution_count": 29
        }
      ]
    },
    {
      "cell_type": "code",
      "metadata": {
        "id": "WP65N3TnJ6pc",
        "colab_type": "code",
        "colab": {
          "base_uri": "https://localhost:8080/",
          "height": 269
        },
        "outputId": "70712af2-1319-4f9a-b16b-a4490dede962"
      },
      "source": [
        "df1.sort_values(by=['py-score', 'age'], ascending=[False, True])"
      ],
      "execution_count": 30,
      "outputs": [
        {
          "output_type": "execute_result",
          "data": {
            "text/html": [
              "<div>\n",
              "<style scoped>\n",
              "    .dataframe tbody tr th:only-of-type {\n",
              "        vertical-align: middle;\n",
              "    }\n",
              "\n",
              "    .dataframe tbody tr th {\n",
              "        vertical-align: top;\n",
              "    }\n",
              "\n",
              "    .dataframe thead th {\n",
              "        text-align: right;\n",
              "    }\n",
              "</style>\n",
              "<table border=\"1\" class=\"dataframe\">\n",
              "  <thead>\n",
              "    <tr style=\"text-align: right;\">\n",
              "      <th></th>\n",
              "      <th>name</th>\n",
              "      <th>city</th>\n",
              "      <th>age</th>\n",
              "      <th>py-score</th>\n",
              "    </tr>\n",
              "  </thead>\n",
              "  <tbody>\n",
              "    <tr>\n",
              "      <th>101</th>\n",
              "      <td>Xavier</td>\n",
              "      <td>Mexico City</td>\n",
              "      <td>41</td>\n",
              "      <td>88.0</td>\n",
              "    </tr>\n",
              "    <tr>\n",
              "      <th>107</th>\n",
              "      <td>Nori</td>\n",
              "      <td>Osaka</td>\n",
              "      <td>37</td>\n",
              "      <td>84.0</td>\n",
              "    </tr>\n",
              "    <tr>\n",
              "      <th>103</th>\n",
              "      <td>Jana</td>\n",
              "      <td>Prague</td>\n",
              "      <td>33</td>\n",
              "      <td>81.0</td>\n",
              "    </tr>\n",
              "    <tr>\n",
              "      <th>104</th>\n",
              "      <td>Yi</td>\n",
              "      <td>Shanghai</td>\n",
              "      <td>34</td>\n",
              "      <td>80.0</td>\n",
              "    </tr>\n",
              "    <tr>\n",
              "      <th>102</th>\n",
              "      <td>Ann</td>\n",
              "      <td>Toronto</td>\n",
              "      <td>28</td>\n",
              "      <td>79.0</td>\n",
              "    </tr>\n",
              "    <tr>\n",
              "      <th>105</th>\n",
              "      <td>Robin</td>\n",
              "      <td>Manchester</td>\n",
              "      <td>38</td>\n",
              "      <td>68.0</td>\n",
              "    </tr>\n",
              "    <tr>\n",
              "      <th>106</th>\n",
              "      <td>Amai</td>\n",
              "      <td>Cairo</td>\n",
              "      <td>31</td>\n",
              "      <td>61.0</td>\n",
              "    </tr>\n",
              "  </tbody>\n",
              "</table>\n",
              "</div>"
            ],
            "text/plain": [
              "       name         city  age  py-score\n",
              "101  Xavier  Mexico City   41      88.0\n",
              "107    Nori        Osaka   37      84.0\n",
              "103    Jana       Prague   33      81.0\n",
              "104      Yi     Shanghai   34      80.0\n",
              "102     Ann      Toronto   28      79.0\n",
              "105   Robin   Manchester   38      68.0\n",
              "106    Amai        Cairo   31      61.0"
            ]
          },
          "metadata": {
            "tags": []
          },
          "execution_count": 30
        }
      ]
    },
    {
      "cell_type": "markdown",
      "metadata": {
        "id": "shZexgd6Lijn",
        "colab_type": "text"
      },
      "source": [
        "Фильтры, отбор по логическим условиям."
      ]
    },
    {
      "cell_type": "code",
      "metadata": {
        "id": "eWXH6ynDKUdK",
        "colab_type": "code",
        "colab": {
          "base_uri": "https://localhost:8080/",
          "height": 160
        },
        "outputId": "16398e7a-551a-41f2-fdbd-2968ba5fbd8b"
      },
      "source": [
        "mask = df1['age'] < 38\n",
        "mask"
      ],
      "execution_count": 31,
      "outputs": [
        {
          "output_type": "execute_result",
          "data": {
            "text/plain": [
              "101    False\n",
              "102     True\n",
              "103     True\n",
              "104     True\n",
              "105    False\n",
              "106     True\n",
              "107     True\n",
              "Name: age, dtype: bool"
            ]
          },
          "metadata": {
            "tags": []
          },
          "execution_count": 31
        }
      ]
    },
    {
      "cell_type": "code",
      "metadata": {
        "id": "mXQ6cxzeKyD5",
        "colab_type": "code",
        "colab": {
          "base_uri": "https://localhost:8080/",
          "height": 206
        },
        "outputId": "50c1e0ca-d0cf-446e-9073-0b0ad8424549"
      },
      "source": [
        "df1[mask]"
      ],
      "execution_count": 32,
      "outputs": [
        {
          "output_type": "execute_result",
          "data": {
            "text/html": [
              "<div>\n",
              "<style scoped>\n",
              "    .dataframe tbody tr th:only-of-type {\n",
              "        vertical-align: middle;\n",
              "    }\n",
              "\n",
              "    .dataframe tbody tr th {\n",
              "        vertical-align: top;\n",
              "    }\n",
              "\n",
              "    .dataframe thead th {\n",
              "        text-align: right;\n",
              "    }\n",
              "</style>\n",
              "<table border=\"1\" class=\"dataframe\">\n",
              "  <thead>\n",
              "    <tr style=\"text-align: right;\">\n",
              "      <th></th>\n",
              "      <th>name</th>\n",
              "      <th>city</th>\n",
              "      <th>age</th>\n",
              "      <th>py-score</th>\n",
              "    </tr>\n",
              "  </thead>\n",
              "  <tbody>\n",
              "    <tr>\n",
              "      <th>102</th>\n",
              "      <td>Ann</td>\n",
              "      <td>Toronto</td>\n",
              "      <td>28</td>\n",
              "      <td>79.0</td>\n",
              "    </tr>\n",
              "    <tr>\n",
              "      <th>103</th>\n",
              "      <td>Jana</td>\n",
              "      <td>Prague</td>\n",
              "      <td>33</td>\n",
              "      <td>81.0</td>\n",
              "    </tr>\n",
              "    <tr>\n",
              "      <th>104</th>\n",
              "      <td>Yi</td>\n",
              "      <td>Shanghai</td>\n",
              "      <td>34</td>\n",
              "      <td>80.0</td>\n",
              "    </tr>\n",
              "    <tr>\n",
              "      <th>106</th>\n",
              "      <td>Amai</td>\n",
              "      <td>Cairo</td>\n",
              "      <td>31</td>\n",
              "      <td>61.0</td>\n",
              "    </tr>\n",
              "    <tr>\n",
              "      <th>107</th>\n",
              "      <td>Nori</td>\n",
              "      <td>Osaka</td>\n",
              "      <td>37</td>\n",
              "      <td>84.0</td>\n",
              "    </tr>\n",
              "  </tbody>\n",
              "</table>\n",
              "</div>"
            ],
            "text/plain": [
              "     name      city  age  py-score\n",
              "102   Ann   Toronto   28      79.0\n",
              "103  Jana    Prague   33      81.0\n",
              "104    Yi  Shanghai   34      80.0\n",
              "106  Amai     Cairo   31      61.0\n",
              "107  Nori     Osaka   37      84.0"
            ]
          },
          "metadata": {
            "tags": []
          },
          "execution_count": 32
        }
      ]
    },
    {
      "cell_type": "code",
      "metadata": {
        "id": "wCAvxe2WK6Yy",
        "colab_type": "code",
        "colab": {
          "base_uri": "https://localhost:8080/",
          "height": 143
        },
        "outputId": "76ad9ff1-50ee-49d5-d8f2-946fa9e36ed2"
      },
      "source": [
        "df1[ (df1['age'] < 38) & (df1['py-score'] >= 80) ]"
      ],
      "execution_count": 33,
      "outputs": [
        {
          "output_type": "execute_result",
          "data": {
            "text/html": [
              "<div>\n",
              "<style scoped>\n",
              "    .dataframe tbody tr th:only-of-type {\n",
              "        vertical-align: middle;\n",
              "    }\n",
              "\n",
              "    .dataframe tbody tr th {\n",
              "        vertical-align: top;\n",
              "    }\n",
              "\n",
              "    .dataframe thead th {\n",
              "        text-align: right;\n",
              "    }\n",
              "</style>\n",
              "<table border=\"1\" class=\"dataframe\">\n",
              "  <thead>\n",
              "    <tr style=\"text-align: right;\">\n",
              "      <th></th>\n",
              "      <th>name</th>\n",
              "      <th>city</th>\n",
              "      <th>age</th>\n",
              "      <th>py-score</th>\n",
              "    </tr>\n",
              "  </thead>\n",
              "  <tbody>\n",
              "    <tr>\n",
              "      <th>103</th>\n",
              "      <td>Jana</td>\n",
              "      <td>Prague</td>\n",
              "      <td>33</td>\n",
              "      <td>81.0</td>\n",
              "    </tr>\n",
              "    <tr>\n",
              "      <th>104</th>\n",
              "      <td>Yi</td>\n",
              "      <td>Shanghai</td>\n",
              "      <td>34</td>\n",
              "      <td>80.0</td>\n",
              "    </tr>\n",
              "    <tr>\n",
              "      <th>107</th>\n",
              "      <td>Nori</td>\n",
              "      <td>Osaka</td>\n",
              "      <td>37</td>\n",
              "      <td>84.0</td>\n",
              "    </tr>\n",
              "  </tbody>\n",
              "</table>\n",
              "</div>"
            ],
            "text/plain": [
              "     name      city  age  py-score\n",
              "103  Jana    Prague   33      81.0\n",
              "104    Yi  Shanghai   34      80.0\n",
              "107  Nori     Osaka   37      84.0"
            ]
          },
          "metadata": {
            "tags": []
          },
          "execution_count": 33
        }
      ]
    },
    {
      "cell_type": "code",
      "metadata": {
        "id": "FlwrFqTLLlIR",
        "colab_type": "code",
        "colab": {
          "base_uri": "https://localhost:8080/",
          "height": 160
        },
        "outputId": "f07486aa-0b8b-41a2-bf9b-5c906c6365ca"
      },
      "source": [
        "df1['city'].where(cond=(df1['city'] == 'Osaka'), other='No City')"
      ],
      "execution_count": 34,
      "outputs": [
        {
          "output_type": "execute_result",
          "data": {
            "text/plain": [
              "101    No City\n",
              "102    No City\n",
              "103    No City\n",
              "104    No City\n",
              "105    No City\n",
              "106    No City\n",
              "107      Osaka\n",
              "Name: city, dtype: object"
            ]
          },
          "metadata": {
            "tags": []
          },
          "execution_count": 34
        }
      ]
    },
    {
      "cell_type": "markdown",
      "metadata": {
        "id": "nzjS_a7ZLonn",
        "colab_type": "text"
      },
      "source": [
        "Обработка пропусков."
      ]
    },
    {
      "cell_type": "code",
      "metadata": {
        "id": "l_Vs0QjDMHo7",
        "colab_type": "code",
        "colab": {
          "base_uri": "https://localhost:8080/",
          "height": 269
        },
        "outputId": "449ed706-1d3e-440e-de4c-eff7703de2b5"
      },
      "source": [
        "df1.loc[102,'age']=np.nan\n",
        "df1.loc[106,'age']=np.nan\n",
        "df1.loc[101,'py-score']=np.nan\n",
        "df1.loc[107,'py-score']=np.nan\n",
        "df1"
      ],
      "execution_count": 35,
      "outputs": [
        {
          "output_type": "execute_result",
          "data": {
            "text/html": [
              "<div>\n",
              "<style scoped>\n",
              "    .dataframe tbody tr th:only-of-type {\n",
              "        vertical-align: middle;\n",
              "    }\n",
              "\n",
              "    .dataframe tbody tr th {\n",
              "        vertical-align: top;\n",
              "    }\n",
              "\n",
              "    .dataframe thead th {\n",
              "        text-align: right;\n",
              "    }\n",
              "</style>\n",
              "<table border=\"1\" class=\"dataframe\">\n",
              "  <thead>\n",
              "    <tr style=\"text-align: right;\">\n",
              "      <th></th>\n",
              "      <th>name</th>\n",
              "      <th>city</th>\n",
              "      <th>age</th>\n",
              "      <th>py-score</th>\n",
              "    </tr>\n",
              "  </thead>\n",
              "  <tbody>\n",
              "    <tr>\n",
              "      <th>101</th>\n",
              "      <td>Xavier</td>\n",
              "      <td>Mexico City</td>\n",
              "      <td>41.0</td>\n",
              "      <td>NaN</td>\n",
              "    </tr>\n",
              "    <tr>\n",
              "      <th>102</th>\n",
              "      <td>Ann</td>\n",
              "      <td>Toronto</td>\n",
              "      <td>NaN</td>\n",
              "      <td>79.0</td>\n",
              "    </tr>\n",
              "    <tr>\n",
              "      <th>103</th>\n",
              "      <td>Jana</td>\n",
              "      <td>Prague</td>\n",
              "      <td>33.0</td>\n",
              "      <td>81.0</td>\n",
              "    </tr>\n",
              "    <tr>\n",
              "      <th>104</th>\n",
              "      <td>Yi</td>\n",
              "      <td>Shanghai</td>\n",
              "      <td>34.0</td>\n",
              "      <td>80.0</td>\n",
              "    </tr>\n",
              "    <tr>\n",
              "      <th>105</th>\n",
              "      <td>Robin</td>\n",
              "      <td>Manchester</td>\n",
              "      <td>38.0</td>\n",
              "      <td>68.0</td>\n",
              "    </tr>\n",
              "    <tr>\n",
              "      <th>106</th>\n",
              "      <td>Amai</td>\n",
              "      <td>Cairo</td>\n",
              "      <td>NaN</td>\n",
              "      <td>61.0</td>\n",
              "    </tr>\n",
              "    <tr>\n",
              "      <th>107</th>\n",
              "      <td>Nori</td>\n",
              "      <td>Osaka</td>\n",
              "      <td>37.0</td>\n",
              "      <td>NaN</td>\n",
              "    </tr>\n",
              "  </tbody>\n",
              "</table>\n",
              "</div>"
            ],
            "text/plain": [
              "       name         city   age  py-score\n",
              "101  Xavier  Mexico City  41.0       NaN\n",
              "102     Ann      Toronto   NaN      79.0\n",
              "103    Jana       Prague  33.0      81.0\n",
              "104      Yi     Shanghai  34.0      80.0\n",
              "105   Robin   Manchester  38.0      68.0\n",
              "106    Amai        Cairo   NaN      61.0\n",
              "107    Nori        Osaka  37.0       NaN"
            ]
          },
          "metadata": {
            "tags": []
          },
          "execution_count": 35
        }
      ]
    },
    {
      "cell_type": "code",
      "metadata": {
        "id": "VfVv5n1wMn55",
        "colab_type": "code",
        "colab": {
          "base_uri": "https://localhost:8080/",
          "height": 214
        },
        "outputId": "8a9b3131-f2f3-42e7-8267-04ff2f110171"
      },
      "source": [
        "df1.info()"
      ],
      "execution_count": 36,
      "outputs": [
        {
          "output_type": "stream",
          "text": [
            "<class 'pandas.core.frame.DataFrame'>\n",
            "Int64Index: 7 entries, 101 to 107\n",
            "Data columns (total 4 columns):\n",
            " #   Column    Non-Null Count  Dtype  \n",
            "---  ------    --------------  -----  \n",
            " 0   name      7 non-null      object \n",
            " 1   city      7 non-null      object \n",
            " 2   age       5 non-null      float64\n",
            " 3   py-score  5 non-null      float64\n",
            "dtypes: float64(2), object(2)\n",
            "memory usage: 600.0+ bytes\n"
          ],
          "name": "stdout"
        }
      ]
    },
    {
      "cell_type": "code",
      "metadata": {
        "id": "ZltDOx1gM6Go",
        "colab_type": "code",
        "colab": {
          "base_uri": "https://localhost:8080/",
          "height": 124
        },
        "outputId": "0a845ed4-6ba1-4ae4-92ae-d740ed15dd20"
      },
      "source": [
        "print(\"число пропусков\")\n",
        "df1.isna().sum()"
      ],
      "execution_count": 37,
      "outputs": [
        {
          "output_type": "stream",
          "text": [
            "число пропусков\n"
          ],
          "name": "stdout"
        },
        {
          "output_type": "execute_result",
          "data": {
            "text/plain": [
              "name        0\n",
              "city        0\n",
              "age         2\n",
              "py-score    2\n",
              "dtype: int64"
            ]
          },
          "metadata": {
            "tags": []
          },
          "execution_count": 37
        }
      ]
    },
    {
      "cell_type": "code",
      "metadata": {
        "id": "zGZM_cHcNTVy",
        "colab_type": "code",
        "colab": {
          "base_uri": "https://localhost:8080/",
          "height": 124
        },
        "outputId": "41da92bb-c9a5-42e7-f82c-40a20fe3a4e5"
      },
      "source": [
        "print(\"число пропусков, %\")\n",
        "df1.isna().sum()*100/7"
      ],
      "execution_count": 38,
      "outputs": [
        {
          "output_type": "stream",
          "text": [
            "число пропусков, %\n"
          ],
          "name": "stdout"
        },
        {
          "output_type": "execute_result",
          "data": {
            "text/plain": [
              "name         0.000000\n",
              "city         0.000000\n",
              "age         28.571429\n",
              "py-score    28.571429\n",
              "dtype: float64"
            ]
          },
          "metadata": {
            "tags": []
          },
          "execution_count": 38
        }
      ]
    },
    {
      "cell_type": "code",
      "metadata": {
        "id": "fDNYP8qbOMwf",
        "colab_type": "code",
        "colab": {
          "base_uri": "https://localhost:8080/",
          "height": 71
        },
        "outputId": "a149f21f-187e-46e7-ab4b-06f16c615a4d"
      },
      "source": [
        "df1.mean()"
      ],
      "execution_count": 39,
      "outputs": [
        {
          "output_type": "execute_result",
          "data": {
            "text/plain": [
              "age         36.6\n",
              "py-score    73.8\n",
              "dtype: float64"
            ]
          },
          "metadata": {
            "tags": []
          },
          "execution_count": 39
        }
      ]
    },
    {
      "cell_type": "code",
      "metadata": {
        "id": "VzkRRG5POQ5n",
        "colab_type": "code",
        "colab": {
          "base_uri": "https://localhost:8080/",
          "height": 71
        },
        "outputId": "5de66e3a-b97a-4ba9-d22b-101eec4da738"
      },
      "source": [
        "df1.mean(skipna=False)"
      ],
      "execution_count": 40,
      "outputs": [
        {
          "output_type": "execute_result",
          "data": {
            "text/plain": [
              "age        NaN\n",
              "py-score   NaN\n",
              "dtype: float64"
            ]
          },
          "metadata": {
            "tags": []
          },
          "execution_count": 40
        }
      ]
    },
    {
      "cell_type": "code",
      "metadata": {
        "id": "TLidnWoCOadm",
        "colab_type": "code",
        "colab": {
          "base_uri": "https://localhost:8080/",
          "height": 143
        },
        "outputId": "4e197ac4-575b-4aab-e1cf-9af9609d6b69"
      },
      "source": [
        "df1.dropna()"
      ],
      "execution_count": 41,
      "outputs": [
        {
          "output_type": "execute_result",
          "data": {
            "text/html": [
              "<div>\n",
              "<style scoped>\n",
              "    .dataframe tbody tr th:only-of-type {\n",
              "        vertical-align: middle;\n",
              "    }\n",
              "\n",
              "    .dataframe tbody tr th {\n",
              "        vertical-align: top;\n",
              "    }\n",
              "\n",
              "    .dataframe thead th {\n",
              "        text-align: right;\n",
              "    }\n",
              "</style>\n",
              "<table border=\"1\" class=\"dataframe\">\n",
              "  <thead>\n",
              "    <tr style=\"text-align: right;\">\n",
              "      <th></th>\n",
              "      <th>name</th>\n",
              "      <th>city</th>\n",
              "      <th>age</th>\n",
              "      <th>py-score</th>\n",
              "    </tr>\n",
              "  </thead>\n",
              "  <tbody>\n",
              "    <tr>\n",
              "      <th>103</th>\n",
              "      <td>Jana</td>\n",
              "      <td>Prague</td>\n",
              "      <td>33.0</td>\n",
              "      <td>81.0</td>\n",
              "    </tr>\n",
              "    <tr>\n",
              "      <th>104</th>\n",
              "      <td>Yi</td>\n",
              "      <td>Shanghai</td>\n",
              "      <td>34.0</td>\n",
              "      <td>80.0</td>\n",
              "    </tr>\n",
              "    <tr>\n",
              "      <th>105</th>\n",
              "      <td>Robin</td>\n",
              "      <td>Manchester</td>\n",
              "      <td>38.0</td>\n",
              "      <td>68.0</td>\n",
              "    </tr>\n",
              "  </tbody>\n",
              "</table>\n",
              "</div>"
            ],
            "text/plain": [
              "      name        city   age  py-score\n",
              "103   Jana      Prague  33.0      81.0\n",
              "104     Yi    Shanghai  34.0      80.0\n",
              "105  Robin  Manchester  38.0      68.0"
            ]
          },
          "metadata": {
            "tags": []
          },
          "execution_count": 41
        }
      ]
    },
    {
      "cell_type": "code",
      "metadata": {
        "id": "syXMRp7EOpvB",
        "colab_type": "code",
        "colab": {
          "base_uri": "https://localhost:8080/",
          "height": 269
        },
        "outputId": "2f342132-b3f9-4669-c457-cd8293faafc8"
      },
      "source": [
        "df1.dropna(axis=1)"
      ],
      "execution_count": 42,
      "outputs": [
        {
          "output_type": "execute_result",
          "data": {
            "text/html": [
              "<div>\n",
              "<style scoped>\n",
              "    .dataframe tbody tr th:only-of-type {\n",
              "        vertical-align: middle;\n",
              "    }\n",
              "\n",
              "    .dataframe tbody tr th {\n",
              "        vertical-align: top;\n",
              "    }\n",
              "\n",
              "    .dataframe thead th {\n",
              "        text-align: right;\n",
              "    }\n",
              "</style>\n",
              "<table border=\"1\" class=\"dataframe\">\n",
              "  <thead>\n",
              "    <tr style=\"text-align: right;\">\n",
              "      <th></th>\n",
              "      <th>name</th>\n",
              "      <th>city</th>\n",
              "    </tr>\n",
              "  </thead>\n",
              "  <tbody>\n",
              "    <tr>\n",
              "      <th>101</th>\n",
              "      <td>Xavier</td>\n",
              "      <td>Mexico City</td>\n",
              "    </tr>\n",
              "    <tr>\n",
              "      <th>102</th>\n",
              "      <td>Ann</td>\n",
              "      <td>Toronto</td>\n",
              "    </tr>\n",
              "    <tr>\n",
              "      <th>103</th>\n",
              "      <td>Jana</td>\n",
              "      <td>Prague</td>\n",
              "    </tr>\n",
              "    <tr>\n",
              "      <th>104</th>\n",
              "      <td>Yi</td>\n",
              "      <td>Shanghai</td>\n",
              "    </tr>\n",
              "    <tr>\n",
              "      <th>105</th>\n",
              "      <td>Robin</td>\n",
              "      <td>Manchester</td>\n",
              "    </tr>\n",
              "    <tr>\n",
              "      <th>106</th>\n",
              "      <td>Amai</td>\n",
              "      <td>Cairo</td>\n",
              "    </tr>\n",
              "    <tr>\n",
              "      <th>107</th>\n",
              "      <td>Nori</td>\n",
              "      <td>Osaka</td>\n",
              "    </tr>\n",
              "  </tbody>\n",
              "</table>\n",
              "</div>"
            ],
            "text/plain": [
              "       name         city\n",
              "101  Xavier  Mexico City\n",
              "102     Ann      Toronto\n",
              "103    Jana       Prague\n",
              "104      Yi     Shanghai\n",
              "105   Robin   Manchester\n",
              "106    Amai        Cairo\n",
              "107    Nori        Osaka"
            ]
          },
          "metadata": {
            "tags": []
          },
          "execution_count": 42
        }
      ]
    },
    {
      "cell_type": "code",
      "metadata": {
        "id": "IVfkEcphO5dm",
        "colab_type": "code",
        "colab": {
          "base_uri": "https://localhost:8080/",
          "height": 160
        },
        "outputId": "db56aac0-4072-4479-ceb3-9889a7e5af73"
      },
      "source": [
        "df1['age'].fillna(value=35)"
      ],
      "execution_count": 43,
      "outputs": [
        {
          "output_type": "execute_result",
          "data": {
            "text/plain": [
              "101    41.0\n",
              "102    35.0\n",
              "103    33.0\n",
              "104    34.0\n",
              "105    38.0\n",
              "106    35.0\n",
              "107    37.0\n",
              "Name: age, dtype: float64"
            ]
          },
          "metadata": {
            "tags": []
          },
          "execution_count": 43
        }
      ]
    },
    {
      "cell_type": "code",
      "metadata": {
        "id": "cNKFS8RUPVzx",
        "colab_type": "code",
        "colab": {
          "base_uri": "https://localhost:8080/",
          "height": 269
        },
        "outputId": "b32659ca-b83d-4d11-ca8c-f4d33bff288c"
      },
      "source": [
        "df1.fillna(df1.mean())"
      ],
      "execution_count": 44,
      "outputs": [
        {
          "output_type": "execute_result",
          "data": {
            "text/html": [
              "<div>\n",
              "<style scoped>\n",
              "    .dataframe tbody tr th:only-of-type {\n",
              "        vertical-align: middle;\n",
              "    }\n",
              "\n",
              "    .dataframe tbody tr th {\n",
              "        vertical-align: top;\n",
              "    }\n",
              "\n",
              "    .dataframe thead th {\n",
              "        text-align: right;\n",
              "    }\n",
              "</style>\n",
              "<table border=\"1\" class=\"dataframe\">\n",
              "  <thead>\n",
              "    <tr style=\"text-align: right;\">\n",
              "      <th></th>\n",
              "      <th>name</th>\n",
              "      <th>city</th>\n",
              "      <th>age</th>\n",
              "      <th>py-score</th>\n",
              "    </tr>\n",
              "  </thead>\n",
              "  <tbody>\n",
              "    <tr>\n",
              "      <th>101</th>\n",
              "      <td>Xavier</td>\n",
              "      <td>Mexico City</td>\n",
              "      <td>41.0</td>\n",
              "      <td>73.8</td>\n",
              "    </tr>\n",
              "    <tr>\n",
              "      <th>102</th>\n",
              "      <td>Ann</td>\n",
              "      <td>Toronto</td>\n",
              "      <td>36.6</td>\n",
              "      <td>79.0</td>\n",
              "    </tr>\n",
              "    <tr>\n",
              "      <th>103</th>\n",
              "      <td>Jana</td>\n",
              "      <td>Prague</td>\n",
              "      <td>33.0</td>\n",
              "      <td>81.0</td>\n",
              "    </tr>\n",
              "    <tr>\n",
              "      <th>104</th>\n",
              "      <td>Yi</td>\n",
              "      <td>Shanghai</td>\n",
              "      <td>34.0</td>\n",
              "      <td>80.0</td>\n",
              "    </tr>\n",
              "    <tr>\n",
              "      <th>105</th>\n",
              "      <td>Robin</td>\n",
              "      <td>Manchester</td>\n",
              "      <td>38.0</td>\n",
              "      <td>68.0</td>\n",
              "    </tr>\n",
              "    <tr>\n",
              "      <th>106</th>\n",
              "      <td>Amai</td>\n",
              "      <td>Cairo</td>\n",
              "      <td>36.6</td>\n",
              "      <td>61.0</td>\n",
              "    </tr>\n",
              "    <tr>\n",
              "      <th>107</th>\n",
              "      <td>Nori</td>\n",
              "      <td>Osaka</td>\n",
              "      <td>37.0</td>\n",
              "      <td>73.8</td>\n",
              "    </tr>\n",
              "  </tbody>\n",
              "</table>\n",
              "</div>"
            ],
            "text/plain": [
              "       name         city   age  py-score\n",
              "101  Xavier  Mexico City  41.0      73.8\n",
              "102     Ann      Toronto  36.6      79.0\n",
              "103    Jana       Prague  33.0      81.0\n",
              "104      Yi     Shanghai  34.0      80.0\n",
              "105   Robin   Manchester  38.0      68.0\n",
              "106    Amai        Cairo  36.6      61.0\n",
              "107    Nori        Osaka  37.0      73.8"
            ]
          },
          "metadata": {
            "tags": []
          },
          "execution_count": 44
        }
      ]
    },
    {
      "cell_type": "markdown",
      "metadata": {
        "id": "td3AJaiDMiJj",
        "colab_type": "text"
      },
      "source": [
        "DataFrame как последовательность значений."
      ]
    },
    {
      "cell_type": "code",
      "metadata": {
        "id": "ij7M0m0DNElz",
        "colab_type": "code",
        "colab": {
          "base_uri": "https://localhost:8080/",
          "height": 424
        },
        "outputId": "e70b4bb1-f57f-49ba-a7a5-0fa90433775f"
      },
      "source": [
        "N = 100\n",
        "rng = pd.date_range('2020-09-21', freq='MS', periods=N)\n",
        "df3 = pd.DataFrame(np.random.rand(N, 1), columns=['x'], index=rng)\n",
        "df3"
      ],
      "execution_count": 45,
      "outputs": [
        {
          "output_type": "execute_result",
          "data": {
            "text/html": [
              "<div>\n",
              "<style scoped>\n",
              "    .dataframe tbody tr th:only-of-type {\n",
              "        vertical-align: middle;\n",
              "    }\n",
              "\n",
              "    .dataframe tbody tr th {\n",
              "        vertical-align: top;\n",
              "    }\n",
              "\n",
              "    .dataframe thead th {\n",
              "        text-align: right;\n",
              "    }\n",
              "</style>\n",
              "<table border=\"1\" class=\"dataframe\">\n",
              "  <thead>\n",
              "    <tr style=\"text-align: right;\">\n",
              "      <th></th>\n",
              "      <th>x</th>\n",
              "    </tr>\n",
              "  </thead>\n",
              "  <tbody>\n",
              "    <tr>\n",
              "      <th>2020-10-01</th>\n",
              "      <td>0.092214</td>\n",
              "    </tr>\n",
              "    <tr>\n",
              "      <th>2020-11-01</th>\n",
              "      <td>0.385849</td>\n",
              "    </tr>\n",
              "    <tr>\n",
              "      <th>2020-12-01</th>\n",
              "      <td>0.932768</td>\n",
              "    </tr>\n",
              "    <tr>\n",
              "      <th>2021-01-01</th>\n",
              "      <td>0.413196</td>\n",
              "    </tr>\n",
              "    <tr>\n",
              "      <th>2021-02-01</th>\n",
              "      <td>0.758925</td>\n",
              "    </tr>\n",
              "    <tr>\n",
              "      <th>...</th>\n",
              "      <td>...</td>\n",
              "    </tr>\n",
              "    <tr>\n",
              "      <th>2028-09-01</th>\n",
              "      <td>0.679243</td>\n",
              "    </tr>\n",
              "    <tr>\n",
              "      <th>2028-10-01</th>\n",
              "      <td>0.611125</td>\n",
              "    </tr>\n",
              "    <tr>\n",
              "      <th>2028-11-01</th>\n",
              "      <td>0.668697</td>\n",
              "    </tr>\n",
              "    <tr>\n",
              "      <th>2028-12-01</th>\n",
              "      <td>0.856733</td>\n",
              "    </tr>\n",
              "    <tr>\n",
              "      <th>2029-01-01</th>\n",
              "      <td>0.526212</td>\n",
              "    </tr>\n",
              "  </tbody>\n",
              "</table>\n",
              "<p>100 rows × 1 columns</p>\n",
              "</div>"
            ],
            "text/plain": [
              "                   x\n",
              "2020-10-01  0.092214\n",
              "2020-11-01  0.385849\n",
              "2020-12-01  0.932768\n",
              "2021-01-01  0.413196\n",
              "2021-02-01  0.758925\n",
              "...              ...\n",
              "2028-09-01  0.679243\n",
              "2028-10-01  0.611125\n",
              "2028-11-01  0.668697\n",
              "2028-12-01  0.856733\n",
              "2029-01-01  0.526212\n",
              "\n",
              "[100 rows x 1 columns]"
            ]
          },
          "metadata": {
            "tags": []
          },
          "execution_count": 45
        }
      ]
    },
    {
      "cell_type": "code",
      "metadata": {
        "id": "pDury1b2NKBZ",
        "colab_type": "code",
        "colab": {
          "base_uri": "https://localhost:8080/",
          "height": 374
        },
        "outputId": "3ed1ba01-86d3-4565-bea1-8db5eba3faad"
      },
      "source": [
        "fig, ax = plt.subplots(figsize=(15,6))\n",
        "df3.plot(ax=ax, marker='o')\n",
        "ax.get_legend().remove()\n",
        "plt.show()"
      ],
      "execution_count": 46,
      "outputs": [
        {
          "output_type": "display_data",
          "data": {
            "image/png": "[encoded data removed]",
            "text/plain": [
              "<Figure size 1080x432 with 1 Axes>"
            ]
          },
          "metadata": {
            "tags": [],
            "needs_background": "light"
          }
        }
      ]
    },
    {
      "cell_type": "code",
      "metadata": {
        "id": "U21X6BqJOGqS",
        "colab_type": "code",
        "colab": {
          "base_uri": "https://localhost:8080/",
          "height": 411
        },
        "outputId": "b7a377a0-1d12-4bc5-dec0-d23d57849708"
      },
      "source": [
        "df4=df3.copy()\n",
        "df4.loc[df4.sample(frac=0.3).index] = pd.np.nan\n",
        "\n",
        "fig, ax = plt.subplots(figsize=(15,6))\n",
        "df4.plot(ax=ax, marker='o')\n",
        "ax.get_legend().remove()\n",
        "plt.show()"
      ],
      "execution_count": 47,
      "outputs": [
        {
          "output_type": "stream",
          "text": [
            "/usr/local/lib/python3.6/dist-packages/ipykernel_launcher.py:2: FutureWarning: The pandas.np module is deprecated and will be removed from pandas in a future version. Import numpy directly instead\n",
            "  \n"
          ],
          "name": "stderr"
        },
        {
          "output_type": "display_data",
          "data": {
            "image/png": "[encoded data removed]",
            "text/plain": [
              "<Figure size 1080x432 with 1 Axes>"
            ]
          },
          "metadata": {
            "tags": [],
            "needs_background": "light"
          }
        }
      ]
    },
    {
      "cell_type": "code",
      "metadata": {
        "id": "kCmUuNEgPQy-",
        "colab_type": "code",
        "colab": {
          "base_uri": "https://localhost:8080/",
          "height": 375
        },
        "outputId": "8e49ad2d-b55c-4ef5-fa01-968e3aecc581"
      },
      "source": [
        "fig, ax = plt.subplots(figsize=(15,6))\n",
        "df4.interpolate(method='linear').plot(ax=ax, marker='o')\n",
        "df4.plot(ax=ax, marker='o')\n",
        "ax.get_legend().remove()\n",
        "plt.show()"
      ],
      "execution_count": 48,
      "outputs": [
        {
          "output_type": "display_data",
          "data": {
            "image/png": "[encoded data removed]",
            "text/plain": [
              "<Figure size 1080x432 with 1 Axes>"
            ]
          },
          "metadata": {
            "tags": [],
            "needs_background": "light"
          }
        }
      ]
    },
    {
      "cell_type": "code",
      "metadata": {
        "id": "uzctIkEOPx7J",
        "colab_type": "code",
        "colab": {
          "base_uri": "https://localhost:8080/",
          "height": 374
        },
        "outputId": "e0c5872a-264d-4c33-f9c5-122f0c51b74e"
      },
      "source": [
        "fig, ax = plt.subplots(figsize=(15,6))\n",
        "df4.interpolate(method='polynomial', order=2).plot(ax=ax, marker='o')\n",
        "df4.plot(ax=ax, marker='o')\n",
        "ax.get_legend().remove()\n",
        "plt.show()"
      ],
      "execution_count": 49,
      "outputs": [
        {
          "output_type": "display_data",
          "data": {
            "image/png": "[encoded data removed]",
            "text/plain": [
              "<Figure size 1080x432 with 1 Axes>"
            ]
          },
          "metadata": {
            "tags": [],
            "needs_background": "light"
          }
        }
      ]
    },
    {
      "cell_type": "code",
      "metadata": {
        "id": "3D5QlB8jQBRQ",
        "colab_type": "code",
        "colab": {
          "base_uri": "https://localhost:8080/",
          "height": 375
        },
        "outputId": "89b7a632-37d7-46f5-bb82-7cf3936f6114"
      },
      "source": [
        "fig, ax = plt.subplots(figsize=(15,6))\n",
        "df4.interpolate(method='nearest').plot(ax=ax, marker='o')\n",
        "df4.plot(ax=ax, marker='o')\n",
        "ax.get_legend().remove()\n",
        "plt.show()"
      ],
      "execution_count": 50,
      "outputs": [
        {
          "output_type": "display_data",
          "data": {
            "image/png": "[encoded data removed]",
            "text/plain": [
              "<Figure size 1080x432 with 1 Axes>"
            ]
          },
          "metadata": {
            "tags": [],
            "needs_background": "light"
          }
        }
      ]
    }
  ]
}